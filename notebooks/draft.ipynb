{
 "cells": [
  {
   "cell_type": "code",
   "execution_count": 61,
   "metadata": {},
   "outputs": [
    {
     "name": "stdout",
     "output_type": "stream",
     "text": [
      "0 3947 116 torch.Size([115, 20]) torch.Size([13, 20])\n",
      "1 5521 229 torch.Size([115, 20]) torch.Size([13, 20])\n",
      "2 6185 317 torch.Size([115, 20]) torch.Size([13, 20])\n",
      "3 6848 398 torch.Size([115, 20]) torch.Size([13, 20])\n",
      "4 7578 479 torch.Size([115, 20]) torch.Size([13, 20])\n",
      "5 8215 559 torch.Size([115, 20]) torch.Size([13, 20])\n",
      "6 8954 644 torch.Size([115, 20]) torch.Size([13, 20])\n",
      "7 9531 730 torch.Size([115, 20]) torch.Size([13, 20])\n",
      "8 10142 803 torch.Size([115, 20]) torch.Size([13, 20])\n",
      "9 10658 878 torch.Size([115, 20]) torch.Size([13, 20])\n",
      "10 11087 963 torch.Size([115, 20]) torch.Size([13, 20])\n",
      "11 11536 1041 torch.Size([115, 20]) torch.Size([13, 20])\n",
      "12 12095 1123 torch.Size([115, 20]) torch.Size([13, 20])\n",
      "13 12430 1209 torch.Size([115, 20]) torch.Size([13, 20])\n",
      "14 12804 1298 torch.Size([115, 20]) torch.Size([13, 20])\n",
      "15 13156 1393 torch.Size([115, 20]) torch.Size([13, 20])\n",
      "16 13464 1483 torch.Size([115, 20]) torch.Size([13, 20])\n",
      "17 14008 1576 torch.Size([115, 20]) torch.Size([13, 20])\n",
      "18 14585 1662 torch.Size([115, 20]) torch.Size([13, 20])\n",
      "19 14941 1754 torch.Size([115, 20]) torch.Size([13, 20])\n",
      "20 15257 1845 torch.Size([115, 20]) torch.Size([13, 20])\n",
      "21 15728 1936 torch.Size([115, 20]) torch.Size([13, 20])\n",
      "22 16087 2018 torch.Size([115, 20]) torch.Size([13, 20])\n",
      "23 16446 2101 torch.Size([115, 20]) torch.Size([13, 20])\n",
      "24 16872 2178 torch.Size([115, 20]) torch.Size([13, 20])\n",
      "25 17147 2256 torch.Size([115, 20]) torch.Size([13, 20])\n",
      "26 17897 2340 torch.Size([115, 20]) torch.Size([13, 20])\n",
      "27 18227 2422 torch.Size([115, 20]) torch.Size([13, 20])\n",
      "28 18581 2498 torch.Size([115, 20]) torch.Size([13, 20])\n",
      "29 18809 2576 torch.Size([115, 20]) torch.Size([13, 20])\n",
      "30 19053 2653 torch.Size([115, 20]) torch.Size([13, 20])\n",
      "31 19370 2729 torch.Size([115, 20]) torch.Size([13, 20])\n",
      "32 19591 2815 torch.Size([115, 20]) torch.Size([13, 20])\n",
      "33 19816 2902 torch.Size([115, 20]) torch.Size([13, 20])\n",
      "34 19839 2920 torch.Size([18, 20]) torch.Size([2, 20])\n"
     ]
    }
   ],
   "source": [
    "import torch\n",
    "import sys\n",
    "\n",
    "# python files\n",
    "sys.path.insert(0, \"..\")\n",
    "from vocabulary import Vocabulary\n",
    "\n",
    "for i in range(35):\n",
    "    data = torch.load(f\"../.cache/sessions/session_{i}.pt\")\n",
    "    vc = data.get(\"vocabulary\")\n",
    "    lut = data.get(\"LUT\")\n",
    "    train_inputs = data.get(\"dataset\")[\"train_inputs\"][\"texts\"].shape\n",
    "    test_inputs = data.get(\"dataset\")[\"test_inputs\"][\"texts\"].shape\n",
    "    print(i, len(vc), len(lut), train_inputs, test_inputs)"
   ]
  }
 ],
 "metadata": {
  "kernelspec": {
   "display_name": "venv",
   "language": "python",
   "name": "python3"
  },
  "language_info": {
   "codemirror_mode": {
    "name": "ipython",
    "version": 3
   },
   "file_extension": ".py",
   "mimetype": "text/x-python",
   "name": "python",
   "nbconvert_exporter": "python",
   "pygments_lexer": "ipython3",
   "version": "3.10.11"
  },
  "orig_nbformat": 4
 },
 "nbformat": 4,
 "nbformat_minor": 2
}
