{
 "cells": [
  {
   "cell_type": "code",
   "execution_count": 21,
   "metadata": {},
   "outputs": [],
   "source": [
    "from sklearn.model_selection import train_test_split\n",
    "import torch\n",
    "from torch.utils.data import Dataset, Subset, random_split\n",
    "\n",
    "x = torch.tensor(list(range(200)))"
   ]
  },
  {
   "cell_type": "code",
   "execution_count": 118,
   "metadata": {},
   "outputs": [
    {
     "data": {
      "text/plain": [
       "(120, 80)"
      ]
     },
     "execution_count": 118,
     "metadata": {},
     "output_type": "execute_result"
    }
   ],
   "source": [
    "class DS(Dataset):\n",
    "    def __init__(self):\n",
    "        self.x = torch.tensor(list(range(200)))\n",
    "        self.y = torch.randint(0, 5, (200,))\n",
    "\n",
    "    def __len__(self):\n",
    "        return len(self.x)\n",
    "\n",
    "    def split(self, proba: float = 0.6, shuffle: bool = True):\n",
    "        pivot = int(self.__len__() * proba)\n",
    "        indices = (\n",
    "            torch.randperm(self.__len__())\n",
    "            if shuffle\n",
    "            else torch.tensor(list(range(self.__len__())))\n",
    "        )\n",
    "        return (Subset(self, idx) for idx in [indices[:pivot], indices[pivot:]])\n",
    "\n",
    "    def __getitem__(self, idx):\n",
    "        return self.x[idx], self.y[idx]\n",
    "\n",
    "\n",
    "test_set = DS()\n",
    "test_set, eval_set = test_set.split(shuffle=False)\n",
    "len(test_set), len(eval_set)"
   ]
  }
 ],
 "metadata": {
  "kernelspec": {
   "display_name": "venv",
   "language": "python",
   "name": "python3"
  },
  "language_info": {
   "codemirror_mode": {
    "name": "ipython",
    "version": 3
   },
   "file_extension": ".py",
   "mimetype": "text/x-python",
   "name": "python",
   "nbconvert_exporter": "python",
   "pygments_lexer": "ipython3",
   "version": "3.10.11"
  },
  "orig_nbformat": 4
 },
 "nbformat": 4,
 "nbformat_minor": 2
}
