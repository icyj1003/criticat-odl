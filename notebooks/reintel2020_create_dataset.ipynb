{
 "cells": [
  {
   "cell_type": "code",
   "execution_count": 1,
   "metadata": {},
   "outputs": [],
   "source": [
    "import torch\n",
    "import sys\n",
    "import os\n",
    "from sklearn.model_selection import train_test_split\n",
    "\n",
    "\n",
    "sys.path.insert(0, \"..\")\n",
    "\n",
    "from utils import *\n",
    "\n",
    "from customdataset import TestingDataset\n",
    "\n",
    "CUR_DIR = os.path.abspath(os.curdir)\n",
    "SAVE_DIR_ONLINE = \"D:/storage/odl/cache/online_session/reintel2020/\"\n",
    "SAVE_DIR_OFFLINE = \"D:/storage/odl/cache/offline/reintel2020/\"\n",
    "CACHE_DIR = \"D:/storage/odl/cache/clean_metadata_with_image/reintel2020/\"\n",
    "\n",
    "for dir in [SAVE_DIR_OFFLINE, SAVE_DIR_ONLINE, CACHE_DIR]:\n",
    "    if not os.path.isdir(dir):\n",
    "        os.makedirs(dir)"
   ]
  },
  {
   "cell_type": "code",
   "execution_count": 2,
   "metadata": {},
   "outputs": [
    {
     "name": "stdout",
     "output_type": "stream",
     "text": [
      "Saved dataset_01.pt with size: 968348722 bytes\n",
      "Saved dataset_02.pt with size: 944616242 bytes\n",
      "Saved dataset_03.pt with size: 822588850 bytes\n",
      "Saved dataset_04.pt with size: 861975730 bytes\n",
      "Saved dataset_05.pt with size: 857127023 bytes\n"
     ]
    }
   ],
   "source": [
    "offline_train = TestingDataset([])\n",
    "offline_test = TestingDataset([])\n",
    "offline_dev = TestingDataset([])\n",
    "\n",
    "for i, cache_file in enumerate(os.listdir(CACHE_DIR)):\n",
    "    # create dataset from cache\n",
    "    dataset = TestingDataset(torch.load(os.path.join(CACHE_DIR, cache_file)))\n",
    "\n",
    "    # get indices and labels\n",
    "    x = list(range(len(dataset)))\n",
    "    y = dataset.get_labels()\n",
    "\n",
    "    # split dataset into train and test+dev\n",
    "    train_idx, test_idx, train_label, test_label = train_test_split(\n",
    "        x, y, test_size=0.2, stratify=y\n",
    "    )\n",
    "\n",
    "    # split test+dev into test and dev\n",
    "    test_idx, dev_idx, test_label, dev_label = train_test_split(\n",
    "        test_idx, test_label, test_size=0.5, stratify=test_label\n",
    "    )\n",
    "\n",
    "    train_idx.sort()\n",
    "    test_idx.sort()\n",
    "    dev_idx.sort()\n",
    "\n",
    "    train_dataset = dataset.subset(train_idx)\n",
    "    test_dataset = dataset.subset(test_idx)\n",
    "    dev_dataset = dataset.subset(dev_idx)\n",
    "\n",
    "    offline_train += train_dataset\n",
    "    offline_test += test_dataset\n",
    "    offline_dev += dev_dataset\n",
    "\n",
    "    # save into cache\n",
    "    file_name = f\"dataset_{i+1:02}.pt\"\n",
    "    file_path = os.path.join(SAVE_DIR_ONLINE, file_name)\n",
    "    torch.save(\n",
    "        {\"train\": train_dataset, \"test\": test_dataset, \"dev\": dev_dataset},\n",
    "        file_path,\n",
    "    )\n",
    "    print(f\"Saved {file_name} with size: {os.path.getsize(file_path)} bytes\")"
   ]
  },
  {
   "cell_type": "code",
   "execution_count": 6,
   "metadata": {},
   "outputs": [
    {
     "data": {
      "text/plain": [
       "(3497, 435, 440)"
      ]
     },
     "execution_count": 6,
     "metadata": {},
     "output_type": "execute_result"
    }
   ],
   "source": [
    "len(offline_train), len(offline_test), len(offline_dev)"
   ]
  },
  {
   "cell_type": "code",
   "execution_count": 5,
   "metadata": {},
   "outputs": [
    {
     "name": "stdout",
     "output_type": "stream",
     "text": [
      "Saved dataset.pt with size: 4454757809 bytes\n"
     ]
    }
   ],
   "source": [
    "# save into cache\n",
    "file_name = \"dataset.pt\"\n",
    "file_path = os.path.join(SAVE_DIR_OFFLINE, file_name)\n",
    "torch.save(\n",
    "    {\"train\": offline_train, \"test\": offline_test, \"dev\": offline_dev},\n",
    "    file_path,\n",
    ")\n",
    "print(f\"Saved {file_name} with size: {os.path.getsize(file_path)} bytes\")"
   ]
  }
 ],
 "metadata": {
  "kernelspec": {
   "display_name": "venv",
   "language": "python",
   "name": "python3"
  },
  "language_info": {
   "codemirror_mode": {
    "name": "ipython",
    "version": 3
   },
   "file_extension": ".py",
   "mimetype": "text/x-python",
   "name": "python",
   "nbconvert_exporter": "python",
   "pygments_lexer": "ipython3",
   "version": "3.10.11"
  },
  "orig_nbformat": 4
 },
 "nbformat": 4,
 "nbformat_minor": 2
}
