{
 "cells": [
  {
   "cell_type": "code",
   "execution_count": 1,
   "metadata": {},
   "outputs": [],
   "source": [
    "import sys\n",
    "\n",
    "sys.path.insert(0, \"..\")"
   ]
  },
  {
   "attachments": {},
   "cell_type": "markdown",
   "metadata": {},
   "source": [
    "### Setting here\n"
   ]
  },
  {
   "cell_type": "code",
   "execution_count": 2,
   "metadata": {},
   "outputs": [],
   "source": [
    "# Paths\n",
    "OFFLINE_DATASET_DIR = \"D:/storage/odl/cache/offline/reintel2020/dataset.pt\"\n",
    "CHECKPOINT_DIR = \"D:/storage/odl/checkpoints/offline/reintel2020/TextCNN_WE/\"\n",
    "\n",
    "# Hyperparameters for TextCNN with trained-WE\n",
    "MAX_LENGTH = 65\n",
    "EMBEDDING_DIM = 300\n",
    "NUM_FILTERS = 100\n",
    "FILTER_SIZES = [3, 4, 5]\n",
    "MAX_FEATURES = 100000\n",
    "LR = 2e-4"
   ]
  },
  {
   "attachments": {},
   "cell_type": "markdown",
   "metadata": {},
   "source": [
    "### Load dataset from cache\n"
   ]
  },
  {
   "cell_type": "code",
   "execution_count": 3,
   "metadata": {},
   "outputs": [
    {
     "data": {
      "text/plain": [
       "(3497, 875)"
      ]
     },
     "execution_count": 3,
     "metadata": {},
     "output_type": "execute_result"
    }
   ],
   "source": [
    "import torch\n",
    "\n",
    "dataset = torch.load(OFFLINE_DATASET_DIR)\n",
    "train_dataset = [\n",
    "    {k: v for k, v in d.items() if k in [\"post_message\", \"label\"]}\n",
    "    for d in dataset[\"train\"].data\n",
    "]\n",
    "test_dataset = [\n",
    "    {k: v for k, v in d.items() if k in [\"post_message\", \"label\"]}\n",
    "    for d in dataset[\"test\"].data\n",
    "]\n",
    "\n",
    "del dataset\n",
    "\n",
    "len(train_dataset), len(test_dataset)"
   ]
  },
  {
   "attachments": {},
   "cell_type": "markdown",
   "metadata": {},
   "source": [
    "### Define model\n"
   ]
  },
  {
   "cell_type": "code",
   "execution_count": 4,
   "metadata": {},
   "outputs": [],
   "source": [
    "from module import TextCNN, TokenEmbedding\n",
    "import torch.nn as nn\n",
    "\n",
    "\n",
    "def create_model(device):\n",
    "    G = TokenEmbedding(MAX_LENGTH, EMBEDDING_DIM, MAX_FEATURES, device=device).to(\n",
    "        device\n",
    "    )\n",
    "    F = TextCNN(EMBEDDING_DIM, NUM_FILTERS, FILTER_SIZES).to(device)\n",
    "\n",
    "    optimizer = torch.optim.Adam(list(G.parameters()) + list(F.parameters()), lr=LR)\n",
    "\n",
    "    return G, F, optimizer\n",
    "\n",
    "\n",
    "device = torch.device(\"cuda\" if torch.cuda.is_available() else \"cpu\")\n",
    "\n",
    "\n",
    "criterion = nn.CrossEntropyLoss()\n",
    "\n",
    "G, F, optimizer = create_model(device)"
   ]
  },
  {
   "attachments": {},
   "cell_type": "markdown",
   "metadata": {},
   "source": [
    "### Train\n"
   ]
  },
  {
   "cell_type": "code",
   "execution_count": null,
   "metadata": {},
   "outputs": [],
   "source": [
    "# from torch.utils.data import DataLoader\n",
    "# import torch.nn as nn\n",
    "# import torch\n",
    "# from train_tools import *\n",
    "# from sklearn.metrics import accuracy_score, f1_score\n",
    "# from metrics import MeanMetric\n",
    "\n",
    "\n",
    "# def train_batch(inputs, targets, G, F, criterion, optimizer, device, freeze_G=False):\n",
    "#     if freeze_G:\n",
    "#         G.eval()\n",
    "#     else:\n",
    "#         G.train()\n",
    "#     F.train()\n",
    "\n",
    "#     targets = targets.to(device)\n",
    "#     vectors = G(inputs)\n",
    "#     outputs = F(vectors)\n",
    "\n",
    "#     loss = criterion(outputs, targets)\n",
    "\n",
    "#     optimizer.zero_grad()\n",
    "#     loss.backward()\n",
    "#     optimizer.step()\n",
    "\n",
    "#     return loss.item(), targets.tolist(), outputs.argmax(dim=1).tolist()\n",
    "\n",
    "\n",
    "# def eval_batch(inputs, targets, G, F, criterion, device):\n",
    "#     G.eval()\n",
    "#     F.eval()\n",
    "\n",
    "#     targets = targets.to(device)\n",
    "#     vectors = G(inputs)\n",
    "#     outputs = F(vectors)\n",
    "\n",
    "#     loss = criterion(outputs, targets)\n",
    "\n",
    "#     return loss.item(), targets.tolist(), outputs.argmax(dim=1).tolist()\n",
    "\n",
    "\n",
    "# def train_online(\n",
    "#     train_dataset,\n",
    "#     test_dataset,\n",
    "#     batch_size,  # for test loader\n",
    "#     G: nn.Module,\n",
    "#     F: nn.Module,\n",
    "#     criterion,\n",
    "#     optimizer,\n",
    "#     device,\n",
    "#     verbose=True,\n",
    "#     path=\"./\",\n",
    "# ):\n",
    "#     train_loader = DataLoader(train_dataset, batch_size=1, shuffle=False)\n",
    "#     acc = MeanMetric()\n",
    "#     for batch in tqdm(train_loader):\n",
    "#         inputs = batch[\"post_message\"]\n",
    "#         targets = batch[\"label\"]\n",
    "\n",
    "#         loss, true, pred = eval_batch(inputs, targets, G, F, criterion, device)\n",
    "#         acc.update(accuracy_score(true, pred))\n",
    "\n",
    "#     print(acc.result())\n",
    "\n",
    "\n",
    "# train_online(\n",
    "#     train_dataset=train_dataset,\n",
    "#     test_dataset=test_dataset,\n",
    "#     batch_size=32,\n",
    "#     G=G,\n",
    "#     F=F,\n",
    "#     criterion=criterion,\n",
    "#     optimizer=optimizer,\n",
    "#     device=device,\n",
    "#     verbose=True,\n",
    "#     path=\"./\",\n",
    "# )"
   ]
  },
  {
   "cell_type": "code",
   "execution_count": 5,
   "metadata": {},
   "outputs": [
    {
     "data": {
      "application/vnd.jupyter.widget-view+json": {
       "model_id": "4b143510fa3e46b0866a048c9772ba2d",
       "version_major": 2,
       "version_minor": 0
      },
      "text/plain": [
       "Epoch 1:   0%|          | 0/110 [00:00<?, ?it/s]"
      ]
     },
     "metadata": {},
     "output_type": "display_data"
    },
    {
     "data": {
      "application/vnd.jupyter.widget-view+json": {
       "model_id": "4bb5c730aae54f9aa8203a582e72a89f",
       "version_major": 2,
       "version_minor": 0
      },
      "text/plain": [
       "Epoch 1:   0%|          | 0/28 [00:00<?, ?it/s]"
      ]
     },
     "metadata": {},
     "output_type": "display_data"
    },
    {
     "name": "stdout",
     "output_type": "stream",
     "text": [
      "Epoch 0 - train_loss: 0.4444 - train_acc: 0.8144 - train_f1: 0.5522 - test_loss: 0.4257 - test_acc: 0.8343 - test_f1: 0.4807\n",
      "Validation loss decreased (inf --> 0.425727), f1 score increased (-inf --> 0.480746).  Saving model ...\n"
     ]
    },
    {
     "data": {
      "application/vnd.jupyter.widget-view+json": {
       "model_id": "2127f465b79a46048c4a3aecc52976f5",
       "version_major": 2,
       "version_minor": 0
      },
      "text/plain": [
       "Epoch 2:   0%|          | 0/110 [00:00<?, ?it/s]"
      ]
     },
     "metadata": {},
     "output_type": "display_data"
    },
    {
     "data": {
      "application/vnd.jupyter.widget-view+json": {
       "model_id": "3247f2ee420c40bd82350cd4cabbdc67",
       "version_major": 2,
       "version_minor": 0
      },
      "text/plain": [
       "Epoch 2:   0%|          | 0/28 [00:00<?, ?it/s]"
      ]
     },
     "metadata": {},
     "output_type": "display_data"
    },
    {
     "name": "stdout",
     "output_type": "stream",
     "text": [
      "Epoch 1 - train_loss: 0.2877 - train_acc: 0.8768 - train_f1: 0.6887 - test_loss: 0.4064 - test_acc: 0.8400 - test_f1: 0.5185\n",
      "Validation loss decreased (0.425727 --> 0.406413), f1 score increased (0.480746 --> 0.518475).  Saving model ...\n"
     ]
    },
    {
     "data": {
      "application/vnd.jupyter.widget-view+json": {
       "model_id": "6c51b94d97814713a6ae98815cc938a6",
       "version_major": 2,
       "version_minor": 0
      },
      "text/plain": [
       "Epoch 3:   0%|          | 0/110 [00:00<?, ?it/s]"
      ]
     },
     "metadata": {},
     "output_type": "display_data"
    },
    {
     "data": {
      "application/vnd.jupyter.widget-view+json": {
       "model_id": "203d4e0265b54ddfbbe4339f89515535",
       "version_major": 2,
       "version_minor": 0
      },
      "text/plain": [
       "Epoch 3:   0%|          | 0/28 [00:00<?, ?it/s]"
      ]
     },
     "metadata": {},
     "output_type": "display_data"
    },
    {
     "name": "stdout",
     "output_type": "stream",
     "text": [
      "Epoch 2 - train_loss: 0.1930 - train_acc: 0.9385 - train_f1: 0.8714 - test_loss: 0.4042 - test_acc: 0.8491 - test_f1: 0.5654\n",
      "Validation loss decreased (0.406413 --> 0.404189), f1 score increased (0.518475 --> 0.565424).  Saving model ...\n"
     ]
    },
    {
     "data": {
      "application/vnd.jupyter.widget-view+json": {
       "model_id": "4b52793f1b05432aaf51cff933321601",
       "version_major": 2,
       "version_minor": 0
      },
      "text/plain": [
       "Epoch 4:   0%|          | 0/110 [00:00<?, ?it/s]"
      ]
     },
     "metadata": {},
     "output_type": "display_data"
    },
    {
     "data": {
      "application/vnd.jupyter.widget-view+json": {
       "model_id": "4c732a831742442aa65890abb0987e43",
       "version_major": 2,
       "version_minor": 0
      },
      "text/plain": [
       "Epoch 4:   0%|          | 0/28 [00:00<?, ?it/s]"
      ]
     },
     "metadata": {},
     "output_type": "display_data"
    },
    {
     "name": "stdout",
     "output_type": "stream",
     "text": [
      "Epoch 3 - train_loss: 0.1260 - train_acc: 0.9745 - train_f1: 0.9518 - test_loss: 0.4149 - test_acc: 0.8503 - test_f1: 0.5710\n",
      "Validation loss decreased (0.404189 --> 0.414945), f1 score increased (0.565424 --> 0.570997).  Saving model ...\n"
     ]
    },
    {
     "data": {
      "application/vnd.jupyter.widget-view+json": {
       "model_id": "585d5c2a3ea948b4844998c6a7476f51",
       "version_major": 2,
       "version_minor": 0
      },
      "text/plain": [
       "Epoch 5:   0%|          | 0/110 [00:00<?, ?it/s]"
      ]
     },
     "metadata": {},
     "output_type": "display_data"
    },
    {
     "data": {
      "application/vnd.jupyter.widget-view+json": {
       "model_id": "b622f1e48d0341a984ef9e2245fe7e61",
       "version_major": 2,
       "version_minor": 0
      },
      "text/plain": [
       "Epoch 5:   0%|          | 0/28 [00:00<?, ?it/s]"
      ]
     },
     "metadata": {},
     "output_type": "display_data"
    },
    {
     "name": "stdout",
     "output_type": "stream",
     "text": [
      "Epoch 4 - train_loss: 0.0823 - train_acc: 0.9920 - train_f1: 0.9854 - test_loss: 0.4327 - test_acc: 0.8549 - test_f1: 0.5927\n",
      "Validation loss decreased (0.414945 --> 0.432727), f1 score increased (0.570997 --> 0.592682).  Saving model ...\n"
     ]
    },
    {
     "data": {
      "application/vnd.jupyter.widget-view+json": {
       "model_id": "a61004642506446da3fb34f23bf96cb6",
       "version_major": 2,
       "version_minor": 0
      },
      "text/plain": [
       "Epoch 6:   0%|          | 0/110 [00:00<?, ?it/s]"
      ]
     },
     "metadata": {},
     "output_type": "display_data"
    },
    {
     "data": {
      "application/vnd.jupyter.widget-view+json": {
       "model_id": "99f7cd6626f54d56b019d38383286afa",
       "version_major": 2,
       "version_minor": 0
      },
      "text/plain": [
       "Epoch 6:   0%|          | 0/28 [00:00<?, ?it/s]"
      ]
     },
     "metadata": {},
     "output_type": "display_data"
    },
    {
     "name": "stdout",
     "output_type": "stream",
     "text": [
      "Epoch 5 - train_loss: 0.0568 - train_acc: 0.9963 - train_f1: 0.9933 - test_loss: 0.4481 - test_acc: 0.8537 - test_f1: 0.5916\n",
      "EarlyStopping counter: 1 out of 5 with f1 score 0.5915747709901394\n"
     ]
    },
    {
     "data": {
      "application/vnd.jupyter.widget-view+json": {
       "model_id": "ccff0ac99b174410b2fcc49aad2ed28b",
       "version_major": 2,
       "version_minor": 0
      },
      "text/plain": [
       "Epoch 7:   0%|          | 0/110 [00:00<?, ?it/s]"
      ]
     },
     "metadata": {},
     "output_type": "display_data"
    },
    {
     "data": {
      "application/vnd.jupyter.widget-view+json": {
       "model_id": "edec0fcd64ad41028eee2bc8d038dcb7",
       "version_major": 2,
       "version_minor": 0
      },
      "text/plain": [
       "Epoch 7:   0%|          | 0/28 [00:00<?, ?it/s]"
      ]
     },
     "metadata": {},
     "output_type": "display_data"
    },
    {
     "name": "stdout",
     "output_type": "stream",
     "text": [
      "Epoch 6 - train_loss: 0.0412 - train_acc: 0.9969 - train_f1: 0.9944 - test_loss: 0.4437 - test_acc: 0.8571 - test_f1: 0.6072\n",
      "Validation loss decreased (0.432727 --> 0.443735), f1 score increased (0.592682 --> 0.607160).  Saving model ...\n"
     ]
    },
    {
     "data": {
      "application/vnd.jupyter.widget-view+json": {
       "model_id": "1075084b60f04d9d94bb16191b8aac41",
       "version_major": 2,
       "version_minor": 0
      },
      "text/plain": [
       "Epoch 8:   0%|          | 0/110 [00:00<?, ?it/s]"
      ]
     },
     "metadata": {},
     "output_type": "display_data"
    },
    {
     "data": {
      "application/vnd.jupyter.widget-view+json": {
       "model_id": "cfc230e03781468a888291424e2e36c4",
       "version_major": 2,
       "version_minor": 0
      },
      "text/plain": [
       "Epoch 8:   0%|          | 0/28 [00:00<?, ?it/s]"
      ]
     },
     "metadata": {},
     "output_type": "display_data"
    },
    {
     "name": "stdout",
     "output_type": "stream",
     "text": [
      "Epoch 7 - train_loss: 0.0296 - train_acc: 0.9974 - train_f1: 0.9954 - test_loss: 0.4597 - test_acc: 0.8583 - test_f1: 0.6122\n",
      "Validation loss decreased (0.443735 --> 0.459653), f1 score increased (0.607160 --> 0.612245).  Saving model ...\n"
     ]
    },
    {
     "data": {
      "application/vnd.jupyter.widget-view+json": {
       "model_id": "3ff3fab2cf7944838bb6d490a926618c",
       "version_major": 2,
       "version_minor": 0
      },
      "text/plain": [
       "Epoch 9:   0%|          | 0/110 [00:00<?, ?it/s]"
      ]
     },
     "metadata": {},
     "output_type": "display_data"
    },
    {
     "data": {
      "application/vnd.jupyter.widget-view+json": {
       "model_id": "47dafde923f946fb9051aa2c2ebd935e",
       "version_major": 2,
       "version_minor": 0
      },
      "text/plain": [
       "Epoch 9:   0%|          | 0/28 [00:00<?, ?it/s]"
      ]
     },
     "metadata": {},
     "output_type": "display_data"
    },
    {
     "name": "stdout",
     "output_type": "stream",
     "text": [
      "Epoch 8 - train_loss: 0.0249 - train_acc: 0.9977 - train_f1: 0.9959 - test_loss: 0.4799 - test_acc: 0.8560 - test_f1: 0.6020\n",
      "EarlyStopping counter: 1 out of 5 with f1 score 0.6020200415848447\n"
     ]
    },
    {
     "data": {
      "application/vnd.jupyter.widget-view+json": {
       "model_id": "ffb17e91564341b182d5fa04872bc63f",
       "version_major": 2,
       "version_minor": 0
      },
      "text/plain": [
       "Epoch 10:   0%|          | 0/110 [00:00<?, ?it/s]"
      ]
     },
     "metadata": {},
     "output_type": "display_data"
    },
    {
     "data": {
      "application/vnd.jupyter.widget-view+json": {
       "model_id": "e472f683a03e4ce38cc30663bbe87edd",
       "version_major": 2,
       "version_minor": 0
      },
      "text/plain": [
       "Epoch 10:   0%|          | 0/28 [00:00<?, ?it/s]"
      ]
     },
     "metadata": {},
     "output_type": "display_data"
    },
    {
     "name": "stdout",
     "output_type": "stream",
     "text": [
      "Epoch 9 - train_loss: 0.0211 - train_acc: 0.9980 - train_f1: 0.9964 - test_loss: 0.4821 - test_acc: 0.8594 - test_f1: 0.6173\n",
      "Validation loss decreased (0.459653 --> 0.482102), f1 score increased (0.612245 --> 0.617278).  Saving model ...\n"
     ]
    },
    {
     "data": {
      "application/vnd.jupyter.widget-view+json": {
       "model_id": "69d49add975b4a0097e5171f3c3b8183",
       "version_major": 2,
       "version_minor": 0
      },
      "text/plain": [
       "Epoch 11:   0%|          | 0/110 [00:00<?, ?it/s]"
      ]
     },
     "metadata": {},
     "output_type": "display_data"
    },
    {
     "data": {
      "application/vnd.jupyter.widget-view+json": {
       "model_id": "528b937900ce40abb4a0dc37c3fc1622",
       "version_major": 2,
       "version_minor": 0
      },
      "text/plain": [
       "Epoch 11:   0%|          | 0/28 [00:00<?, ?it/s]"
      ]
     },
     "metadata": {},
     "output_type": "display_data"
    },
    {
     "name": "stdout",
     "output_type": "stream",
     "text": [
      "Epoch 10 - train_loss: 0.0182 - train_acc: 0.9974 - train_f1: 0.9954 - test_loss: 0.4799 - test_acc: 0.8594 - test_f1: 0.6173\n",
      "EarlyStopping counter: 1 out of 5 with f1 score 0.6172775409037407\n"
     ]
    },
    {
     "data": {
      "application/vnd.jupyter.widget-view+json": {
       "model_id": "b7a8f723db7f4983b8b4c9ee96a611bd",
       "version_major": 2,
       "version_minor": 0
      },
      "text/plain": [
       "Epoch 12:   0%|          | 0/110 [00:00<?, ?it/s]"
      ]
     },
     "metadata": {},
     "output_type": "display_data"
    },
    {
     "data": {
      "application/vnd.jupyter.widget-view+json": {
       "model_id": "199527203e00425d8147b4ea3bbc4823",
       "version_major": 2,
       "version_minor": 0
      },
      "text/plain": [
       "Epoch 12:   0%|          | 0/28 [00:00<?, ?it/s]"
      ]
     },
     "metadata": {},
     "output_type": "display_data"
    },
    {
     "name": "stdout",
     "output_type": "stream",
     "text": [
      "Epoch 11 - train_loss: 0.0167 - train_acc: 0.9974 - train_f1: 0.9954 - test_loss: 0.4826 - test_acc: 0.8583 - test_f1: 0.6161\n",
      "EarlyStopping counter: 2 out of 5 with f1 score 0.616065109695683\n"
     ]
    },
    {
     "data": {
      "application/vnd.jupyter.widget-view+json": {
       "model_id": "027676e9bbc44fc792521c317115feff",
       "version_major": 2,
       "version_minor": 0
      },
      "text/plain": [
       "Epoch 13:   0%|          | 0/110 [00:00<?, ?it/s]"
      ]
     },
     "metadata": {},
     "output_type": "display_data"
    },
    {
     "data": {
      "application/vnd.jupyter.widget-view+json": {
       "model_id": "bc23c4469c46457f851c9e1156ee042f",
       "version_major": 2,
       "version_minor": 0
      },
      "text/plain": [
       "Epoch 13:   0%|          | 0/28 [00:00<?, ?it/s]"
      ]
     },
     "metadata": {},
     "output_type": "display_data"
    },
    {
     "name": "stdout",
     "output_type": "stream",
     "text": [
      "Epoch 12 - train_loss: 0.0154 - train_acc: 0.9974 - train_f1: 0.9954 - test_loss: 0.4842 - test_acc: 0.8583 - test_f1: 0.6161\n",
      "EarlyStopping counter: 3 out of 5 with f1 score 0.616065109695683\n"
     ]
    },
    {
     "data": {
      "application/vnd.jupyter.widget-view+json": {
       "model_id": "c413b57b23074ec38f801abbd12d34f4",
       "version_major": 2,
       "version_minor": 0
      },
      "text/plain": [
       "Epoch 14:   0%|          | 0/110 [00:00<?, ?it/s]"
      ]
     },
     "metadata": {},
     "output_type": "display_data"
    },
    {
     "data": {
      "application/vnd.jupyter.widget-view+json": {
       "model_id": "0666af50e29e4b71bf61c45f31395dd3",
       "version_major": 2,
       "version_minor": 0
      },
      "text/plain": [
       "Epoch 14:   0%|          | 0/28 [00:00<?, ?it/s]"
      ]
     },
     "metadata": {},
     "output_type": "display_data"
    },
    {
     "name": "stdout",
     "output_type": "stream",
     "text": [
      "Epoch 13 - train_loss: 0.0133 - train_acc: 0.9980 - train_f1: 0.9964 - test_loss: 0.4819 - test_acc: 0.8594 - test_f1: 0.6210\n",
      "Validation loss decreased (0.482102 --> 0.481896), f1 score increased (0.617278 --> 0.621024).  Saving model ...\n"
     ]
    },
    {
     "data": {
      "application/vnd.jupyter.widget-view+json": {
       "model_id": "cae107d4d5654492934ecca66b477b7b",
       "version_major": 2,
       "version_minor": 0
      },
      "text/plain": [
       "Epoch 15:   0%|          | 0/110 [00:00<?, ?it/s]"
      ]
     },
     "metadata": {},
     "output_type": "display_data"
    },
    {
     "data": {
      "application/vnd.jupyter.widget-view+json": {
       "model_id": "42bb9a600a0645c18c7e4f666592d8ec",
       "version_major": 2,
       "version_minor": 0
      },
      "text/plain": [
       "Epoch 15:   0%|          | 0/28 [00:00<?, ?it/s]"
      ]
     },
     "metadata": {},
     "output_type": "display_data"
    },
    {
     "name": "stdout",
     "output_type": "stream",
     "text": [
      "Epoch 14 - train_loss: 0.0149 - train_acc: 0.9980 - train_f1: 0.9964 - test_loss: 0.4857 - test_acc: 0.8606 - test_f1: 0.6259\n",
      "Validation loss decreased (0.481896 --> 0.485701), f1 score increased (0.621024 --> 0.625932).  Saving model ...\n"
     ]
    },
    {
     "data": {
      "application/vnd.jupyter.widget-view+json": {
       "model_id": "44b87a3200a342b4bad91dbba00e1bd5",
       "version_major": 2,
       "version_minor": 0
      },
      "text/plain": [
       "Epoch 16:   0%|          | 0/110 [00:00<?, ?it/s]"
      ]
     },
     "metadata": {},
     "output_type": "display_data"
    },
    {
     "data": {
      "application/vnd.jupyter.widget-view+json": {
       "model_id": "3e6fb3fc0f31417aa0cf5fae0277c23a",
       "version_major": 2,
       "version_minor": 0
      },
      "text/plain": [
       "Epoch 16:   0%|          | 0/28 [00:00<?, ?it/s]"
      ]
     },
     "metadata": {},
     "output_type": "display_data"
    },
    {
     "name": "stdout",
     "output_type": "stream",
     "text": [
      "Epoch 15 - train_loss: 0.0132 - train_acc: 0.9977 - train_f1: 0.9959 - test_loss: 0.4910 - test_acc: 0.8606 - test_f1: 0.6259\n",
      "EarlyStopping counter: 1 out of 5 with f1 score 0.6259321036106751\n"
     ]
    },
    {
     "data": {
      "application/vnd.jupyter.widget-view+json": {
       "model_id": "4e6e7c1e0e2b4ed4a9566cbccfa0945c",
       "version_major": 2,
       "version_minor": 0
      },
      "text/plain": [
       "Epoch 17:   0%|          | 0/110 [00:00<?, ?it/s]"
      ]
     },
     "metadata": {},
     "output_type": "display_data"
    },
    {
     "data": {
      "application/vnd.jupyter.widget-view+json": {
       "model_id": "d06210ccf8d145919a092269857750d0",
       "version_major": 2,
       "version_minor": 0
      },
      "text/plain": [
       "Epoch 17:   0%|          | 0/28 [00:00<?, ?it/s]"
      ]
     },
     "metadata": {},
     "output_type": "display_data"
    },
    {
     "name": "stdout",
     "output_type": "stream",
     "text": [
      "Epoch 16 - train_loss: 0.0143 - train_acc: 0.9980 - train_f1: 0.9964 - test_loss: 0.4900 - test_acc: 0.8594 - test_f1: 0.6247\n",
      "EarlyStopping counter: 2 out of 5 with f1 score 0.6246874574994508\n"
     ]
    },
    {
     "data": {
      "application/vnd.jupyter.widget-view+json": {
       "model_id": "1461f79f924946f6903e8c7782f186d3",
       "version_major": 2,
       "version_minor": 0
      },
      "text/plain": [
       "Epoch 18:   0%|          | 0/110 [00:00<?, ?it/s]"
      ]
     },
     "metadata": {},
     "output_type": "display_data"
    },
    {
     "data": {
      "application/vnd.jupyter.widget-view+json": {
       "model_id": "82d48134f0c742d189d52a62e8b7daea",
       "version_major": 2,
       "version_minor": 0
      },
      "text/plain": [
       "Epoch 18:   0%|          | 0/28 [00:00<?, ?it/s]"
      ]
     },
     "metadata": {},
     "output_type": "display_data"
    },
    {
     "name": "stdout",
     "output_type": "stream",
     "text": [
      "Epoch 17 - train_loss: 0.0115 - train_acc: 0.9980 - train_f1: 0.9964 - test_loss: 0.4966 - test_acc: 0.8606 - test_f1: 0.6259\n",
      "EarlyStopping counter: 3 out of 5 with f1 score 0.6259321036106751\n"
     ]
    },
    {
     "data": {
      "application/vnd.jupyter.widget-view+json": {
       "model_id": "18fb673a56af41a6b923ef7f936e40d3",
       "version_major": 2,
       "version_minor": 0
      },
      "text/plain": [
       "Epoch 19:   0%|          | 0/110 [00:00<?, ?it/s]"
      ]
     },
     "metadata": {},
     "output_type": "display_data"
    },
    {
     "data": {
      "application/vnd.jupyter.widget-view+json": {
       "model_id": "3fb74824d4c14d60882fa98a7f740e0a",
       "version_major": 2,
       "version_minor": 0
      },
      "text/plain": [
       "Epoch 19:   0%|          | 0/28 [00:00<?, ?it/s]"
      ]
     },
     "metadata": {},
     "output_type": "display_data"
    },
    {
     "name": "stdout",
     "output_type": "stream",
     "text": [
      "Epoch 18 - train_loss: 0.0164 - train_acc: 0.9980 - train_f1: 0.9964 - test_loss: 0.4974 - test_acc: 0.8606 - test_f1: 0.6295\n",
      "Validation loss decreased (0.485701 --> 0.497364), f1 score increased (0.625932 --> 0.629526).  Saving model ...\n"
     ]
    },
    {
     "data": {
      "application/vnd.jupyter.widget-view+json": {
       "model_id": "ed5db1802aff4f67a45b6b850dc01e05",
       "version_major": 2,
       "version_minor": 0
      },
      "text/plain": [
       "Epoch 20:   0%|          | 0/110 [00:00<?, ?it/s]"
      ]
     },
     "metadata": {},
     "output_type": "display_data"
    },
    {
     "data": {
      "application/vnd.jupyter.widget-view+json": {
       "model_id": "05e8773200634c689d1732d9dc6abf36",
       "version_major": 2,
       "version_minor": 0
      },
      "text/plain": [
       "Epoch 20:   0%|          | 0/28 [00:00<?, ?it/s]"
      ]
     },
     "metadata": {},
     "output_type": "display_data"
    },
    {
     "name": "stdout",
     "output_type": "stream",
     "text": [
      "Epoch 19 - train_loss: 0.0120 - train_acc: 0.9980 - train_f1: 0.9964 - test_loss: 0.5042 - test_acc: 0.8594 - test_f1: 0.6247\n",
      "EarlyStopping counter: 1 out of 5 with f1 score 0.6246874574994508\n"
     ]
    },
    {
     "data": {
      "application/vnd.jupyter.widget-view+json": {
       "model_id": "268923cd4a0644bf812d8e607d52807e",
       "version_major": 2,
       "version_minor": 0
      },
      "text/plain": [
       "Epoch 21:   0%|          | 0/110 [00:00<?, ?it/s]"
      ]
     },
     "metadata": {},
     "output_type": "display_data"
    },
    {
     "data": {
      "application/vnd.jupyter.widget-view+json": {
       "model_id": "e7d9e31207e04f76bc31b5f8182c5fbf",
       "version_major": 2,
       "version_minor": 0
      },
      "text/plain": [
       "Epoch 21:   0%|          | 0/28 [00:00<?, ?it/s]"
      ]
     },
     "metadata": {},
     "output_type": "display_data"
    },
    {
     "name": "stdout",
     "output_type": "stream",
     "text": [
      "Epoch 20 - train_loss: 0.0139 - train_acc: 0.9980 - train_f1: 0.9964 - test_loss: 0.5030 - test_acc: 0.8606 - test_f1: 0.6295\n",
      "EarlyStopping counter: 2 out of 5 with f1 score 0.6295255150202677\n"
     ]
    },
    {
     "data": {
      "application/vnd.jupyter.widget-view+json": {
       "model_id": "f061d59da94844e2951e647fb1f9ae84",
       "version_major": 2,
       "version_minor": 0
      },
      "text/plain": [
       "Epoch 22:   0%|          | 0/110 [00:00<?, ?it/s]"
      ]
     },
     "metadata": {},
     "output_type": "display_data"
    },
    {
     "data": {
      "application/vnd.jupyter.widget-view+json": {
       "model_id": "33b7d8bcf4f045e68f913a9264123f33",
       "version_major": 2,
       "version_minor": 0
      },
      "text/plain": [
       "Epoch 22:   0%|          | 0/28 [00:00<?, ?it/s]"
      ]
     },
     "metadata": {},
     "output_type": "display_data"
    },
    {
     "name": "stdout",
     "output_type": "stream",
     "text": [
      "Epoch 21 - train_loss: 0.0135 - train_acc: 0.9980 - train_f1: 0.9964 - test_loss: 0.5106 - test_acc: 0.8594 - test_f1: 0.6283\n",
      "EarlyStopping counter: 3 out of 5 with f1 score 0.6282704429669286\n"
     ]
    },
    {
     "data": {
      "application/vnd.jupyter.widget-view+json": {
       "model_id": "89a43eb6b0b14366a05ec9334139a3f0",
       "version_major": 2,
       "version_minor": 0
      },
      "text/plain": [
       "Epoch 23:   0%|          | 0/110 [00:00<?, ?it/s]"
      ]
     },
     "metadata": {},
     "output_type": "display_data"
    },
    {
     "data": {
      "application/vnd.jupyter.widget-view+json": {
       "model_id": "e1b73ab182154723814c9462dd1e1268",
       "version_major": 2,
       "version_minor": 0
      },
      "text/plain": [
       "Epoch 23:   0%|          | 0/28 [00:00<?, ?it/s]"
      ]
     },
     "metadata": {},
     "output_type": "display_data"
    },
    {
     "name": "stdout",
     "output_type": "stream",
     "text": [
      "Epoch 22 - train_loss: 0.0150 - train_acc: 0.9980 - train_f1: 0.9964 - test_loss: 0.5166 - test_acc: 0.8606 - test_f1: 0.6295\n",
      "EarlyStopping counter: 4 out of 5 with f1 score 0.6295255150202677\n"
     ]
    },
    {
     "data": {
      "application/vnd.jupyter.widget-view+json": {
       "model_id": "797413242a4b47bc96c8551eca1cb447",
       "version_major": 2,
       "version_minor": 0
      },
      "text/plain": [
       "Epoch 24:   0%|          | 0/110 [00:00<?, ?it/s]"
      ]
     },
     "metadata": {},
     "output_type": "display_data"
    },
    {
     "data": {
      "application/vnd.jupyter.widget-view+json": {
       "model_id": "e4457c45f3294b4dbc9959bea36513e3",
       "version_major": 2,
       "version_minor": 0
      },
      "text/plain": [
       "Epoch 24:   0%|          | 0/28 [00:00<?, ?it/s]"
      ]
     },
     "metadata": {},
     "output_type": "display_data"
    },
    {
     "name": "stdout",
     "output_type": "stream",
     "text": [
      "Epoch 23 - train_loss: 0.0134 - train_acc: 0.9980 - train_f1: 0.9964 - test_loss: 0.5133 - test_acc: 0.8617 - test_f1: 0.6378\n",
      "Validation loss decreased (0.497364 --> 0.513258), f1 score increased (0.629526 --> 0.637763).  Saving model ...\n"
     ]
    },
    {
     "data": {
      "application/vnd.jupyter.widget-view+json": {
       "model_id": "eed9a5e3ba2d4662aa322dd8bac6d1b6",
       "version_major": 2,
       "version_minor": 0
      },
      "text/plain": [
       "Epoch 25:   0%|          | 0/110 [00:00<?, ?it/s]"
      ]
     },
     "metadata": {},
     "output_type": "display_data"
    },
    {
     "data": {
      "application/vnd.jupyter.widget-view+json": {
       "model_id": "c341dcacb539488b99c38d412ddfafb9",
       "version_major": 2,
       "version_minor": 0
      },
      "text/plain": [
       "Epoch 25:   0%|          | 0/28 [00:00<?, ?it/s]"
      ]
     },
     "metadata": {},
     "output_type": "display_data"
    },
    {
     "name": "stdout",
     "output_type": "stream",
     "text": [
      "Epoch 24 - train_loss: 0.0162 - train_acc: 0.9980 - train_f1: 0.9964 - test_loss: 0.5228 - test_acc: 0.8617 - test_f1: 0.6343\n",
      "EarlyStopping counter: 1 out of 5 with f1 score 0.6343148260081168\n"
     ]
    },
    {
     "data": {
      "application/vnd.jupyter.widget-view+json": {
       "model_id": "f7fdc188ba6a43ab944ff84d215cc1f8",
       "version_major": 2,
       "version_minor": 0
      },
      "text/plain": [
       "Epoch 26:   0%|          | 0/110 [00:00<?, ?it/s]"
      ]
     },
     "metadata": {},
     "output_type": "display_data"
    },
    {
     "data": {
      "application/vnd.jupyter.widget-view+json": {
       "model_id": "525c954b05fc435288b2ecf9c1317e43",
       "version_major": 2,
       "version_minor": 0
      },
      "text/plain": [
       "Epoch 26:   0%|          | 0/28 [00:00<?, ?it/s]"
      ]
     },
     "metadata": {},
     "output_type": "display_data"
    },
    {
     "name": "stdout",
     "output_type": "stream",
     "text": [
      "Epoch 25 - train_loss: 0.0129 - train_acc: 0.9980 - train_f1: 0.9964 - test_loss: 0.5162 - test_acc: 0.8629 - test_f1: 0.6424\n",
      "Validation loss decreased (0.513258 --> 0.516166), f1 score increased (0.637763 --> 0.642439).  Saving model ...\n"
     ]
    },
    {
     "data": {
      "application/vnd.jupyter.widget-view+json": {
       "model_id": "bfcc7ede49cd4c5280107848f690727f",
       "version_major": 2,
       "version_minor": 0
      },
      "text/plain": [
       "Epoch 27:   0%|          | 0/110 [00:00<?, ?it/s]"
      ]
     },
     "metadata": {},
     "output_type": "display_data"
    },
    {
     "data": {
      "application/vnd.jupyter.widget-view+json": {
       "model_id": "6738a62486904bd799c5bb9a631800a9",
       "version_major": 2,
       "version_minor": 0
      },
      "text/plain": [
       "Epoch 27:   0%|          | 0/28 [00:00<?, ?it/s]"
      ]
     },
     "metadata": {},
     "output_type": "display_data"
    },
    {
     "name": "stdout",
     "output_type": "stream",
     "text": [
      "Epoch 26 - train_loss: 0.0168 - train_acc: 0.9980 - train_f1: 0.9964 - test_loss: 0.5160 - test_acc: 0.8606 - test_f1: 0.6330\n",
      "EarlyStopping counter: 1 out of 5 with f1 score 0.6330404532079312\n"
     ]
    },
    {
     "data": {
      "application/vnd.jupyter.widget-view+json": {
       "model_id": "2344eb12c2b6451da7d84c26896f6de8",
       "version_major": 2,
       "version_minor": 0
      },
      "text/plain": [
       "Epoch 28:   0%|          | 0/110 [00:00<?, ?it/s]"
      ]
     },
     "metadata": {},
     "output_type": "display_data"
    },
    {
     "data": {
      "application/vnd.jupyter.widget-view+json": {
       "model_id": "e4f8e1668e434aca8df483a4c6ee6327",
       "version_major": 2,
       "version_minor": 0
      },
      "text/plain": [
       "Epoch 28:   0%|          | 0/28 [00:00<?, ?it/s]"
      ]
     },
     "metadata": {},
     "output_type": "display_data"
    },
    {
     "name": "stdout",
     "output_type": "stream",
     "text": [
      "Epoch 27 - train_loss: 0.0137 - train_acc: 0.9980 - train_f1: 0.9964 - test_loss: 0.5258 - test_acc: 0.8629 - test_f1: 0.6391\n",
      "EarlyStopping counter: 2 out of 5 with f1 score 0.6390561834832109\n"
     ]
    },
    {
     "data": {
      "application/vnd.jupyter.widget-view+json": {
       "model_id": "13b03a29a88941c9a52f6add556b55d0",
       "version_major": 2,
       "version_minor": 0
      },
      "text/plain": [
       "Epoch 29:   0%|          | 0/110 [00:00<?, ?it/s]"
      ]
     },
     "metadata": {},
     "output_type": "display_data"
    },
    {
     "data": {
      "application/vnd.jupyter.widget-view+json": {
       "model_id": "7be01abdaf5444b8897e8f1dd38b5ea3",
       "version_major": 2,
       "version_minor": 0
      },
      "text/plain": [
       "Epoch 29:   0%|          | 0/28 [00:00<?, ?it/s]"
      ]
     },
     "metadata": {},
     "output_type": "display_data"
    },
    {
     "name": "stdout",
     "output_type": "stream",
     "text": [
      "Epoch 28 - train_loss: 0.0169 - train_acc: 0.9980 - train_f1: 0.9964 - test_loss: 0.5239 - test_acc: 0.8629 - test_f1: 0.6391\n",
      "EarlyStopping counter: 3 out of 5 with f1 score 0.6390561834832109\n"
     ]
    },
    {
     "data": {
      "application/vnd.jupyter.widget-view+json": {
       "model_id": "0cdacb82ea3a4ab6ab970a8c4dad4506",
       "version_major": 2,
       "version_minor": 0
      },
      "text/plain": [
       "Epoch 30:   0%|          | 0/110 [00:00<?, ?it/s]"
      ]
     },
     "metadata": {},
     "output_type": "display_data"
    },
    {
     "data": {
      "application/vnd.jupyter.widget-view+json": {
       "model_id": "0b21368174f940fb860412228332f0e8",
       "version_major": 2,
       "version_minor": 0
      },
      "text/plain": [
       "Epoch 30:   0%|          | 0/28 [00:00<?, ?it/s]"
      ]
     },
     "metadata": {},
     "output_type": "display_data"
    },
    {
     "name": "stdout",
     "output_type": "stream",
     "text": [
      "Epoch 29 - train_loss: 0.0141 - train_acc: 0.9980 - train_f1: 0.9964 - test_loss: 0.5208 - test_acc: 0.8640 - test_f1: 0.6471\n",
      "Validation loss decreased (0.516166 --> 0.520759), f1 score increased (0.642439 --> 0.647069).  Saving model ...\n"
     ]
    },
    {
     "data": {
      "application/vnd.jupyter.widget-view+json": {
       "model_id": "54666b0f7321467da1485516b5f9fa00",
       "version_major": 2,
       "version_minor": 0
      },
      "text/plain": [
       "Epoch 31:   0%|          | 0/110 [00:00<?, ?it/s]"
      ]
     },
     "metadata": {},
     "output_type": "display_data"
    },
    {
     "data": {
      "application/vnd.jupyter.widget-view+json": {
       "model_id": "e67feb5bc4ff4f5a8e3dcfad2c2ba9f0",
       "version_major": 2,
       "version_minor": 0
      },
      "text/plain": [
       "Epoch 31:   0%|          | 0/28 [00:00<?, ?it/s]"
      ]
     },
     "metadata": {},
     "output_type": "display_data"
    },
    {
     "name": "stdout",
     "output_type": "stream",
     "text": [
      "Epoch 30 - train_loss: 0.0158 - train_acc: 0.9980 - train_f1: 0.9964 - test_loss: 0.5276 - test_acc: 0.8629 - test_f1: 0.6424\n",
      "EarlyStopping counter: 1 out of 5 with f1 score 0.6424387718963686\n"
     ]
    },
    {
     "data": {
      "application/vnd.jupyter.widget-view+json": {
       "model_id": "1688751a65a14183b54c77f939665d67",
       "version_major": 2,
       "version_minor": 0
      },
      "text/plain": [
       "Epoch 32:   0%|          | 0/110 [00:00<?, ?it/s]"
      ]
     },
     "metadata": {},
     "output_type": "display_data"
    },
    {
     "data": {
      "application/vnd.jupyter.widget-view+json": {
       "model_id": "7bb066e960c04340a1fb69abf4212227",
       "version_major": 2,
       "version_minor": 0
      },
      "text/plain": [
       "Epoch 32:   0%|          | 0/28 [00:00<?, ?it/s]"
      ]
     },
     "metadata": {},
     "output_type": "display_data"
    },
    {
     "name": "stdout",
     "output_type": "stream",
     "text": [
      "Epoch 31 - train_loss: 0.0141 - train_acc: 0.9980 - train_f1: 0.9964 - test_loss: 0.5226 - test_acc: 0.8629 - test_f1: 0.6490\n",
      "Validation loss decreased (0.520759 --> 0.522608), f1 score increased (0.647069 --> 0.648989).  Saving model ...\n"
     ]
    },
    {
     "data": {
      "application/vnd.jupyter.widget-view+json": {
       "model_id": "238699b4538147b4b0149e192afd3db7",
       "version_major": 2,
       "version_minor": 0
      },
      "text/plain": [
       "Epoch 33:   0%|          | 0/110 [00:00<?, ?it/s]"
      ]
     },
     "metadata": {},
     "output_type": "display_data"
    },
    {
     "data": {
      "application/vnd.jupyter.widget-view+json": {
       "model_id": "b9bd7ced4dbe43d89fbc7ca068aafb9e",
       "version_major": 2,
       "version_minor": 0
      },
      "text/plain": [
       "Epoch 33:   0%|          | 0/28 [00:00<?, ?it/s]"
      ]
     },
     "metadata": {},
     "output_type": "display_data"
    },
    {
     "name": "stdout",
     "output_type": "stream",
     "text": [
      "Epoch 32 - train_loss: 0.0173 - train_acc: 0.9980 - train_f1: 0.9964 - test_loss: 0.5300 - test_acc: 0.8617 - test_f1: 0.6378\n",
      "EarlyStopping counter: 1 out of 5 with f1 score 0.6377629746716346\n"
     ]
    },
    {
     "data": {
      "application/vnd.jupyter.widget-view+json": {
       "model_id": "421067ab1db043759f4cb26b73ad71f2",
       "version_major": 2,
       "version_minor": 0
      },
      "text/plain": [
       "Epoch 34:   0%|          | 0/110 [00:00<?, ?it/s]"
      ]
     },
     "metadata": {},
     "output_type": "display_data"
    },
    {
     "data": {
      "application/vnd.jupyter.widget-view+json": {
       "model_id": "cfe362d9efc24fd08d0cc5ed6ad49a41",
       "version_major": 2,
       "version_minor": 0
      },
      "text/plain": [
       "Epoch 34:   0%|          | 0/28 [00:00<?, ?it/s]"
      ]
     },
     "metadata": {},
     "output_type": "display_data"
    },
    {
     "name": "stdout",
     "output_type": "stream",
     "text": [
      "Epoch 33 - train_loss: 0.0123 - train_acc: 0.9980 - train_f1: 0.9964 - test_loss: 0.5227 - test_acc: 0.8617 - test_f1: 0.6444\n",
      "EarlyStopping counter: 2 out of 5 with f1 score 0.6444391457807898\n"
     ]
    },
    {
     "data": {
      "application/vnd.jupyter.widget-view+json": {
       "model_id": "578d78f1db2f412896c6f2c68a8eb7a7",
       "version_major": 2,
       "version_minor": 0
      },
      "text/plain": [
       "Epoch 35:   0%|          | 0/110 [00:00<?, ?it/s]"
      ]
     },
     "metadata": {},
     "output_type": "display_data"
    },
    {
     "data": {
      "application/vnd.jupyter.widget-view+json": {
       "model_id": "9b52aee45e564782addeb4af3448c45c",
       "version_major": 2,
       "version_minor": 0
      },
      "text/plain": [
       "Epoch 35:   0%|          | 0/28 [00:00<?, ?it/s]"
      ]
     },
     "metadata": {},
     "output_type": "display_data"
    },
    {
     "name": "stdout",
     "output_type": "stream",
     "text": [
      "Epoch 34 - train_loss: 0.0166 - train_acc: 0.9980 - train_f1: 0.9964 - test_loss: 0.5335 - test_acc: 0.8651 - test_f1: 0.6451\n",
      "EarlyStopping counter: 3 out of 5 with f1 score 0.6450719137584908\n"
     ]
    },
    {
     "data": {
      "application/vnd.jupyter.widget-view+json": {
       "model_id": "582a341769444fcdb7cf2db1a84e4d00",
       "version_major": 2,
       "version_minor": 0
      },
      "text/plain": [
       "Epoch 36:   0%|          | 0/110 [00:00<?, ?it/s]"
      ]
     },
     "metadata": {},
     "output_type": "display_data"
    },
    {
     "data": {
      "application/vnd.jupyter.widget-view+json": {
       "model_id": "46996422a09e43b78332f3bc3d82c083",
       "version_major": 2,
       "version_minor": 0
      },
      "text/plain": [
       "Epoch 36:   0%|          | 0/28 [00:00<?, ?it/s]"
      ]
     },
     "metadata": {},
     "output_type": "display_data"
    },
    {
     "name": "stdout",
     "output_type": "stream",
     "text": [
      "Epoch 35 - train_loss: 0.0128 - train_acc: 0.9983 - train_f1: 0.9969 - test_loss: 0.5428 - test_acc: 0.8629 - test_f1: 0.6424\n",
      "EarlyStopping counter: 4 out of 5 with f1 score 0.6424387718963686\n"
     ]
    },
    {
     "data": {
      "application/vnd.jupyter.widget-view+json": {
       "model_id": "593bd20d28a74ddc855cd99cb84784ac",
       "version_major": 2,
       "version_minor": 0
      },
      "text/plain": [
       "Epoch 37:   0%|          | 0/110 [00:00<?, ?it/s]"
      ]
     },
     "metadata": {},
     "output_type": "display_data"
    },
    {
     "data": {
      "application/vnd.jupyter.widget-view+json": {
       "model_id": "f35a6b5a966a4f6c88bc24919521762a",
       "version_major": 2,
       "version_minor": 0
      },
      "text/plain": [
       "Epoch 37:   0%|          | 0/28 [00:00<?, ?it/s]"
      ]
     },
     "metadata": {},
     "output_type": "display_data"
    },
    {
     "name": "stdout",
     "output_type": "stream",
     "text": [
      "Epoch 36 - train_loss: 0.0152 - train_acc: 0.9983 - train_f1: 0.9969 - test_loss: 0.5224 - test_acc: 0.8629 - test_f1: 0.6490\n",
      "EarlyStopping counter: 5 out of 5 with f1 score 0.6489890885750963\n",
      "Early stopping\n"
     ]
    }
   ],
   "source": [
    "from train_tools import train_offline\n",
    "\n",
    "train_offline(\n",
    "    train_dataset=train_dataset,\n",
    "    test_dataset=test_dataset,\n",
    "    batch_size=32,\n",
    "    G=G,\n",
    "    F=F,\n",
    "    criterion=criterion,\n",
    "    optimizer=optimizer,\n",
    "    num_epochs=100,\n",
    "    device=device,\n",
    "    early_stopping=True,\n",
    "    patience=5,\n",
    "    verbose=True,\n",
    "    delta=0.001,\n",
    "    path=CHECKPOINT_DIR,\n",
    ")"
   ]
  },
  {
   "cell_type": "code",
   "execution_count": 42,
   "metadata": {},
   "outputs": [],
   "source": []
  }
 ],
 "metadata": {
  "kernelspec": {
   "display_name": "venv",
   "language": "python",
   "name": "python3"
  },
  "language_info": {
   "codemirror_mode": {
    "name": "ipython",
    "version": 3
   },
   "file_extension": ".py",
   "mimetype": "text/x-python",
   "name": "python",
   "nbconvert_exporter": "python",
   "pygments_lexer": "ipython3",
   "version": "3.10.11"
  },
  "orig_nbformat": 4
 },
 "nbformat": 4,
 "nbformat_minor": 2
}
