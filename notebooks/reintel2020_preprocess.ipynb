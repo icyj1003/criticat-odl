{
 "cells": [
  {
   "attachments": {},
   "cell_type": "markdown",
   "metadata": {},
   "source": [
    "## Import packages\n"
   ]
  },
  {
   "cell_type": "code",
   "execution_count": 1,
   "metadata": {},
   "outputs": [],
   "source": [
    "import pandas as pd\n",
    "import matplotlib\n",
    "import matplotlib.pyplot as plt\n",
    "from tqdm.auto import tqdm\n",
    "from PIL import Image\n",
    "import os\n",
    "import sys\n",
    "\n",
    "sys.path.insert(0, \"..\")\n",
    "from preprocess import VietnameseTextCleaner\n",
    "from utils import dict_handler\n",
    "from transforms import ImageTransform\n",
    "\n",
    "\n",
    "matplotlib.style.use(\"ggplot\")"
   ]
  },
  {
   "attachments": {},
   "cell_type": "markdown",
   "metadata": {},
   "source": [
    "## Paths\n"
   ]
  },
  {
   "cell_type": "code",
   "execution_count": 2,
   "metadata": {},
   "outputs": [],
   "source": [
    "CUR_DIR = os.path.abspath(os.curdir)\n",
    "METADATA_PATH = os.path.join(CUR_DIR, \"../data/reintel2020/public_train.csv\")\n",
    "IMAGES_DIR = os.path.join(CUR_DIR, \"../data/reintel2020/public_train_final_images/\")\n",
    "CACHE_DIR = \"D:\\\\storage\\\\odl\\\\cache\\\\\"\n",
    "VNCORE_NLP_PATH = os.path.join(CUR_DIR, \"../vncorenlp/\")\n",
    "STOPWORDS_PATH = os.path.join(CUR_DIR, \"../stop_words/vietnamese-stopwords-dash.txt\")"
   ]
  },
  {
   "attachments": {},
   "cell_type": "markdown",
   "metadata": {},
   "source": [
    "## Init Cleaner\n"
   ]
  },
  {
   "cell_type": "code",
   "execution_count": 3,
   "metadata": {},
   "outputs": [],
   "source": [
    "cleaner = VietnameseTextCleaner(\n",
    "    stopwords_path=STOPWORDS_PATH,\n",
    "    vncorenlp_path=VNCORE_NLP_PATH,\n",
    "    cur_dir=CUR_DIR,\n",
    ")"
   ]
  },
  {
   "attachments": {},
   "cell_type": "markdown",
   "metadata": {},
   "source": [
    "## Read csv\n"
   ]
  },
  {
   "cell_type": "code",
   "execution_count": 4,
   "metadata": {},
   "outputs": [],
   "source": [
    "df_train = pd.read_csv(METADATA_PATH)"
   ]
  },
  {
   "attachments": {},
   "cell_type": "markdown",
   "metadata": {},
   "source": [
    "## Fixing timestamp errors\n"
   ]
  },
  {
   "cell_type": "code",
   "execution_count": 5,
   "metadata": {},
   "outputs": [],
   "source": [
    "# type errors\n",
    "errors = []\n",
    "for i in range(len(df_train[\"timestamp_post\"])):\n",
    "    try:\n",
    "        float(df_train[\"timestamp_post\"][i])\n",
    "    except:\n",
    "        errors.append(i)"
   ]
  },
  {
   "cell_type": "code",
   "execution_count": 6,
   "metadata": {},
   "outputs": [],
   "source": [
    "# missing\n",
    "missings = df_train[df_train.timestamp_post.isnull()].index.to_list()"
   ]
  },
  {
   "cell_type": "code",
   "execution_count": 7,
   "metadata": {},
   "outputs": [
    {
     "name": "stdout",
     "output_type": "stream",
     "text": [
      "<class 'pandas.core.frame.DataFrame'>\n",
      "RangeIndex: 4372 entries, 0 to 4371\n",
      "Data columns (total 8 columns):\n",
      " #   Column            Non-Null Count  Dtype  \n",
      "---  ------            --------------  -----  \n",
      " 0   id                4372 non-null   int64  \n",
      " 1   user_name         4372 non-null   object \n",
      " 2   post_message      4371 non-null   object \n",
      " 3   timestamp_post    4372 non-null   float64\n",
      " 4   num_like_post     4257 non-null   object \n",
      " 5   num_comment_post  4362 non-null   object \n",
      " 6   num_share_post    3647 non-null   object \n",
      " 7   label             4372 non-null   int64  \n",
      "dtypes: float64(1), int64(2), object(5)\n",
      "memory usage: 273.4+ KB\n"
     ]
    }
   ],
   "source": [
    "# fill with mean\n",
    "mean = (\n",
    "    df_train[~df_train.index.isin(missings + errors)][\"timestamp_post\"]\n",
    "    .astype(float)\n",
    "    .mean()\n",
    ")\n",
    "df_train.loc[errors + missings, \"timestamp_post\"] = mean\n",
    "df_train.timestamp_post = df_train.timestamp_post.astype(float)\n",
    "df_train.info()"
   ]
  },
  {
   "attachments": {},
   "cell_type": "markdown",
   "metadata": {},
   "source": [
    "## Sort by timestamp\n"
   ]
  },
  {
   "cell_type": "code",
   "execution_count": 8,
   "metadata": {},
   "outputs": [],
   "source": [
    "df_sorted = df_train.sort_values(\"timestamp_post\")"
   ]
  },
  {
   "attachments": {},
   "cell_type": "markdown",
   "metadata": {},
   "source": [
    "Preprocessing\n"
   ]
  },
  {
   "cell_type": "code",
   "execution_count": 9,
   "metadata": {},
   "outputs": [
    {
     "data": {
      "application/vnd.jupyter.widget-view+json": {
       "model_id": "0655d60ab83346c68eda039e92256ebc",
       "version_major": 2,
       "version_minor": 0
      },
      "text/plain": [
       "  0%|          | 0/4372 [00:00<?, ?it/s]"
      ]
     },
     "metadata": {},
     "output_type": "display_data"
    }
   ],
   "source": [
    "dataset = [\n",
    "    dict_handler(dict_object=record, cleaner=cleaner)\n",
    "    for record in tqdm(df_sorted.to_dict(\"records\"))\n",
    "]"
   ]
  },
  {
   "cell_type": "code",
   "execution_count": 10,
   "metadata": {},
   "outputs": [
    {
     "data": {
      "image/png": "[encoded data removed]",
      "text/plain": [
       "<Figure size 500x500 with 1 Axes>"
      ]
     },
     "metadata": {},
     "output_type": "display_data"
    }
   ],
   "source": [
    "import seaborn as sns\n",
    "\n",
    "sns.displot(\n",
    "    data=[\n",
    "        len(sample[\"post_message\"].split())\n",
    "        if len(sample[\"post_message\"].split()) < 500\n",
    "        else 0\n",
    "        for sample in dataset\n",
    "    ]\n",
    ")\n",
    "\n",
    "plt.show()"
   ]
  },
  {
   "attachments": {},
   "cell_type": "markdown",
   "metadata": {},
   "source": [
    "## Save dataset as cache\n"
   ]
  },
  {
   "cell_type": "code",
   "execution_count": 11,
   "metadata": {},
   "outputs": [
    {
     "name": "stdout",
     "output_type": "stream",
     "text": [
      "Saved clean_metadata_01.pt with size 770 KB\n",
      "Saved clean_metadata_02.pt with size 634 KB\n",
      "Saved clean_metadata_03.pt with size 507 KB\n",
      "Saved clean_metadata_04.pt with size 570 KB\n",
      "Saved clean_metadata_05.pt with size 444 KB\n"
     ]
    }
   ],
   "source": [
    "import torch\n",
    "\n",
    "list_of_dicts = dataset  # List of dictionaries with data\n",
    "\n",
    "# Divide the list into 5 sublists of roughly equal size\n",
    "num_chunks = 5\n",
    "chunk_size = -(-len(list_of_dicts) // num_chunks)  # Round up division\n",
    "dict_chunks = [\n",
    "    list_of_dicts[i : i + chunk_size] for i in range(0, len(list_of_dicts), chunk_size)\n",
    "]\n",
    "\n",
    "\n",
    "save_dir = os.path.join(CACHE_DIR, \"clean_metadata/reintel2020\")\n",
    "\n",
    "# ensure directory exists\n",
    "if not os.path.exists(save_dir):\n",
    "    os.mkdir(save_dir)\n",
    "\n",
    "# Save each sublist to a different file\n",
    "for i, chunk in enumerate(dict_chunks):\n",
    "    filename = f\"clean_metadata_{i+1:02}.pt\"\n",
    "    file_path = os.path.join(save_dir, filename)\n",
    "    torch.save(chunk, file_path)  # Save\n",
    "    print(f\"Saved {filename} with size {(os.path.getsize(file_path)/1024):.0f} KB\")"
   ]
  },
  {
   "attachments": {},
   "cell_type": "markdown",
   "metadata": {},
   "source": [
    "## Append images\n"
   ]
  },
  {
   "cell_type": "code",
   "execution_count": 12,
   "metadata": {},
   "outputs": [
    {
     "data": {
      "application/vnd.jupyter.widget-view+json": {
       "model_id": "0fe51db3ae414d91ba5861bd8df30fce",
       "version_major": 2,
       "version_minor": 0
      },
      "text/plain": [
       "  0%|          | 0/4372 [00:00<?, ?it/s]"
      ]
     },
     "metadata": {},
     "output_type": "display_data"
    }
   ],
   "source": [
    "import numpy as np\n",
    "\n",
    "new_dataset = []\n",
    "image_transform = ImageTransform()\n",
    "\n",
    "for record in tqdm(dataset):\n",
    "    path = os.path.join(IMAGES_DIR, str(record[\"id\"]))\n",
    "    temp = record\n",
    "\n",
    "    # if image exists\n",
    "    if os.path.exists(path):\n",
    "        for image in os.listdir(path):\n",
    "            temp[\"image\"] = image_transform(\n",
    "                np.array(Image.open(os.path.join(path, image)).convert(\"RGB\")).astype(\n",
    "                    float\n",
    "                )\n",
    "            )\n",
    "            break\n",
    "\n",
    "    # else create a zeros tensor\n",
    "    else:\n",
    "        temp[\"image\"] = torch.randint(0, 256, (3, 256, 256), dtype=torch.float) / 255\n",
    "    new_dataset.append(temp)"
   ]
  },
  {
   "cell_type": "code",
   "execution_count": 13,
   "metadata": {},
   "outputs": [
    {
     "name": "stdout",
     "output_type": "stream",
     "text": [
      "Saved clean_metadata_with_image_01.pt with size 945668 KB\n",
      "Saved clean_metadata_with_image_02.pt with size 922492 KB\n",
      "Saved clean_metadata_with_image_03.pt with size 803325 KB\n",
      "Saved clean_metadata_with_image_04.pt with size 841789 KB\n",
      "Saved clean_metadata_with_image_05.pt with size 837053 KB\n"
     ]
    }
   ],
   "source": [
    "list_of_dicts = new_dataset  # List of dictionaries with data\n",
    "import copy\n",
    "\n",
    "# Divide the list into 5 sublists of roughly equal size\n",
    "num_chunks = 5\n",
    "chunk_size = -(-len(list_of_dicts) // num_chunks)  # Round up division\n",
    "dict_chunks = [\n",
    "    list_of_dicts[i : i + chunk_size] for i in range(0, len(list_of_dicts), chunk_size)\n",
    "]\n",
    "\n",
    "\n",
    "save_dir = os.path.join(CACHE_DIR, \"clean_metadata_with_image/reintel2020\")\n",
    "\n",
    "# ensure directory exists\n",
    "if not os.path.exists(save_dir):\n",
    "    os.makedirs(save_dir)\n",
    "\n",
    "# Save each sublist to a different file\n",
    "for i, chunk in enumerate(dict_chunks):\n",
    "    filename = f\"clean_metadata_with_image_{i+1:02}.pt\"\n",
    "    file_path = os.path.join(save_dir, filename)\n",
    "    torch.save(copy.deepcopy(chunk), file_path)  # Save\n",
    "    print(f\"Saved {filename} with size {(os.path.getsize(file_path)/1024):.0f} KB\")"
   ]
  }
 ],
 "metadata": {
  "kernelspec": {
   "display_name": "venv",
   "language": "python",
   "name": "python3"
  },
  "language_info": {
   "codemirror_mode": {
    "name": "ipython",
    "version": 3
   },
   "file_extension": ".py",
   "mimetype": "text/x-python",
   "name": "python",
   "nbconvert_exporter": "python",
   "pygments_lexer": "ipython3",
   "version": "3.10.11"
  },
  "orig_nbformat": 4
 },
 "nbformat": 4,
 "nbformat_minor": 2
}
