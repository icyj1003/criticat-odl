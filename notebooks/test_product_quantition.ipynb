{
 "cells": [
  {
   "cell_type": "code",
   "execution_count": 44,
   "metadata": {},
   "outputs": [],
   "source": [
    "import time\n",
    "import faiss\n",
    "import numpy as np\n",
    "import sys\n",
    "\n",
    "\n",
    "class ProductQuantizer:\n",
    "    def __init__(self, vector_size, subquantizer_size):\n",
    "        self.vector_size = vector_size\n",
    "        self.num_centroids = subquantizer_size\n",
    "        self.num_subquantizers = int(vector_size / subquantizer_size)\n",
    "        self.pq = faiss.ProductQuantizer(\n",
    "            vector_size, self.num_subquantizers, int(np.log2(subquantizer_size))\n",
    "        )\n",
    "\n",
    "    def train(self, vectors):\n",
    "        \"\"\"_summary_\n",
    "\n",
    "        Args:\n",
    "            vectors (_type_): input vectors with shape [batch_size, vector_size]\n",
    "        \"\"\"\n",
    "        start = time.time()\n",
    "        self.pq.train(vectors)\n",
    "        print(\"Completed in {} secs\".format(time.time() - start))\n",
    "\n",
    "    def encode(self, vectors):\n",
    "        return self.pq.compute_codes(vectors)\n",
    "\n",
    "    def decode(self, encoded_vectors):\n",
    "        return self.pq.decode(encoded_vectors)"
   ]
  },
  {
   "cell_type": "code",
   "execution_count": 45,
   "metadata": {},
   "outputs": [
    {
     "data": {
      "text/plain": [
       "1746002048"
      ]
     },
     "execution_count": 45,
     "metadata": {},
     "output_type": "execute_result"
    }
   ],
   "source": [
    "# dataset with shape [batch, sentence_length, vector_length] -> [batch, sentence_length * vector_length]\n",
    "batch = 4372\n",
    "sentence_length = 65\n",
    "vector_length = 768\n",
    "\n",
    "dataset = np.random.random((batch, sentence_length * vector_length))\n",
    "sys.getsizeof(dataset)"
   ]
  },
  {
   "cell_type": "code",
   "execution_count": 46,
   "metadata": {},
   "outputs": [],
   "source": [
    "pq = ProductQuantizer(\n",
    "    vector_size=sentence_length * vector_length, subquantizer_size=128\n",
    ")"
   ]
  },
  {
   "cell_type": "code",
   "execution_count": 47,
   "metadata": {},
   "outputs": [
    {
     "name": "stdout",
     "output_type": "stream",
     "text": [
      "Completed in 26.18165874481201 secs\n"
     ]
    }
   ],
   "source": [
    "pq.train(dataset)"
   ]
  },
  {
   "cell_type": "code",
   "execution_count": 48,
   "metadata": {},
   "outputs": [
    {
     "data": {
      "text/plain": [
       "1495352"
      ]
     },
     "execution_count": 48,
     "metadata": {},
     "output_type": "execute_result"
    }
   ],
   "source": [
    "encoded = pq.encode(dataset)\n",
    "sys.getsizeof(encoded)"
   ]
  },
  {
   "cell_type": "code",
   "execution_count": 49,
   "metadata": {},
   "outputs": [],
   "source": [
    "decoded = pq.decode(encoded)"
   ]
  },
  {
   "cell_type": "code",
   "execution_count": 50,
   "metadata": {},
   "outputs": [
    {
     "data": {
      "text/plain": [
       "61.3063492475266"
      ]
     },
     "execution_count": 50,
     "metadata": {},
     "output_type": "execute_result"
    }
   ],
   "source": [
    "np.linalg.norm(dataset[0] - decoded[0])"
   ]
  }
 ],
 "metadata": {
  "kernelspec": {
   "display_name": "venv",
   "language": "python",
   "name": "python3"
  },
  "language_info": {
   "codemirror_mode": {
    "name": "ipython",
    "version": 3
   },
   "file_extension": ".py",
   "mimetype": "text/x-python",
   "name": "python",
   "nbconvert_exporter": "python",
   "pygments_lexer": "ipython3",
   "version": "3.10.11"
  },
  "orig_nbformat": 4
 },
 "nbformat": 4,
 "nbformat_minor": 2
}
