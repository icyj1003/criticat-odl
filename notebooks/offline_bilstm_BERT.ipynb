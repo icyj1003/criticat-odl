{
 "cells": [
  {
   "cell_type": "code",
   "execution_count": 1,
   "metadata": {},
   "outputs": [],
   "source": [
    "import sys\n",
    "\n",
    "sys.path.insert(0, \"..\")"
   ]
  },
  {
   "attachments": {},
   "cell_type": "markdown",
   "metadata": {},
   "source": [
    "### Setting here\n"
   ]
  },
  {
   "cell_type": "code",
   "execution_count": 2,
   "metadata": {},
   "outputs": [],
   "source": [
    "# Paths\n",
    "OFFLINE_DATASET_DIR = \"D:/storage/odl/cache/offline/reintel2020/dataset.pt\"\n",
    "CHECKPOINT_DIR = \"D:/storage/odl/checkpoints/offline/reintel2020/BiLSTM_BERT/\"\n",
    "\n",
    "# Hyperparameters for TextCNN with trained-WE\n",
    "MAX_LENGTH = 65\n",
    "EMBEDDING_DIM = 300\n",
    "HIDDEN_DIM = 256\n",
    "MAX_FEATURES = 100000\n",
    "LR = 1e-5"
   ]
  },
  {
   "attachments": {},
   "cell_type": "markdown",
   "metadata": {},
   "source": [
    "### Load dataset from cache\n"
   ]
  },
  {
   "cell_type": "code",
   "execution_count": 3,
   "metadata": {},
   "outputs": [
    {
     "data": {
      "text/plain": [
       "(3497, 875)"
      ]
     },
     "execution_count": 3,
     "metadata": {},
     "output_type": "execute_result"
    }
   ],
   "source": [
    "import torch\n",
    "\n",
    "\n",
    "dataset = torch.load(OFFLINE_DATASET_DIR)\n",
    "train_dataset = [\n",
    "    {k: v for k, v in d.items() if k in [\"post_message\", \"label\"]}\n",
    "    for d in dataset[\"train\"].data\n",
    "]\n",
    "test_dataset = [\n",
    "    {k: v for k, v in d.items() if k in [\"post_message\", \"label\"]}\n",
    "    for d in dataset[\"test\"].data\n",
    "]\n",
    "\n",
    "del dataset\n",
    "\n",
    "len(train_dataset), len(test_dataset)"
   ]
  },
  {
   "attachments": {},
   "cell_type": "markdown",
   "metadata": {},
   "source": [
    "### Define model\n"
   ]
  },
  {
   "cell_type": "code",
   "execution_count": 4,
   "metadata": {},
   "outputs": [
    {
     "data": {
      "text/plain": [
       "(TokenEmbedding(\n",
       "   (pad): PadTransform()\n",
       "   (embedding): Embedding(100000, 300, padding_idx=0)\n",
       " ),\n",
       " BiLSTM(\n",
       "   (lstm): LSTM(300, 256, batch_first=True, bidirectional=True)\n",
       "   (fc): Linear(in_features=512, out_features=2, bias=True)\n",
       "   (dropout): Dropout(p=0.1, inplace=False)\n",
       " ))"
      ]
     },
     "execution_count": 4,
     "metadata": {},
     "output_type": "execute_result"
    }
   ],
   "source": [
    "from module import BiLSTM, BertEmbedding\n",
    "import torch.nn as nn\n",
    "\n",
    "device = torch.device(\"cuda\" if torch.cuda.is_available() else \"cpu\")\n",
    "\n",
    "\n",
    "G = BertEmbedding(max_length=MAX_LENGTH, device=device).to(device)\n",
    "F = BiLSTM(HIDDEN_DIM, EMBEDDING_DIM).to(device)\n",
    "\n",
    "optimizer = torch.optim.Adam(list(G.parameters()) + list(F.parameters()), lr=LR)\n",
    "criterion = nn.CrossEntropyLoss()\n",
    "\n",
    "G, F"
   ]
  },
  {
   "attachments": {},
   "cell_type": "markdown",
   "metadata": {},
   "source": [
    "### Train\n"
   ]
  },
  {
   "cell_type": "code",
   "execution_count": 5,
   "metadata": {},
   "outputs": [
    {
     "data": {
      "application/vnd.jupyter.widget-view+json": {
       "model_id": "33fcafda39044b0586d90d128d50f211",
       "version_major": 2,
       "version_minor": 0
      },
      "text/plain": [
       "Epoch 1:   0%|          | 0/110 [00:00<?, ?it/s]"
      ]
     },
     "metadata": {},
     "output_type": "display_data"
    },
    {
     "data": {
      "application/vnd.jupyter.widget-view+json": {
       "model_id": "6845a13ede354c05a1da3d935408579e",
       "version_major": 2,
       "version_minor": 0
      },
      "text/plain": [
       "Epoch 1:   0%|          | 0/28 [00:00<?, ?it/s]"
      ]
     },
     "metadata": {},
     "output_type": "display_data"
    },
    {
     "name": "stdout",
     "output_type": "stream",
     "text": [
      "Epoch 0 - train_loss: 0.5550 - train_acc: 0.8124 - train_f1: 0.5235 - test_loss: 0.4508 - test_acc: 0.8309 - test_f1: 0.4538\n",
      "Validation loss decreased (inf --> 0.450798), f1 score increased (-inf --> 0.453808).  Saving model ...\n"
     ]
    },
    {
     "data": {
      "application/vnd.jupyter.widget-view+json": {
       "model_id": "bc0d2ca85e714c34845ed7ce38ed3e83",
       "version_major": 2,
       "version_minor": 0
      },
      "text/plain": [
       "Epoch 2:   0%|          | 0/110 [00:00<?, ?it/s]"
      ]
     },
     "metadata": {},
     "output_type": "display_data"
    },
    {
     "data": {
      "application/vnd.jupyter.widget-view+json": {
       "model_id": "b5ea6c0960104073864f99f2c042f782",
       "version_major": 2,
       "version_minor": 0
      },
      "text/plain": [
       "Epoch 2:   0%|          | 0/28 [00:00<?, ?it/s]"
      ]
     },
     "metadata": {},
     "output_type": "display_data"
    },
    {
     "name": "stdout",
     "output_type": "stream",
     "text": [
      "Epoch 1 - train_loss: 0.4465 - train_acc: 0.8361 - train_f1: 0.4769 - test_loss: 0.4490 - test_acc: 0.8331 - test_f1: 0.4677\n",
      "Validation loss decreased (0.450798 --> 0.449038), f1 score increased (0.453808 --> 0.467708).  Saving model ...\n"
     ]
    },
    {
     "data": {
      "application/vnd.jupyter.widget-view+json": {
       "model_id": "09f674f20050484f994e88bb20941349",
       "version_major": 2,
       "version_minor": 0
      },
      "text/plain": [
       "Epoch 3:   0%|          | 0/110 [00:00<?, ?it/s]"
      ]
     },
     "metadata": {},
     "output_type": "display_data"
    },
    {
     "data": {
      "application/vnd.jupyter.widget-view+json": {
       "model_id": "0b469d413bda48d2bc8bbfce07a4c2c4",
       "version_major": 2,
       "version_minor": 0
      },
      "text/plain": [
       "Epoch 3:   0%|          | 0/28 [00:00<?, ?it/s]"
      ]
     },
     "metadata": {},
     "output_type": "display_data"
    },
    {
     "name": "stdout",
     "output_type": "stream",
     "text": [
      "Epoch 2 - train_loss: 0.4312 - train_acc: 0.8381 - train_f1: 0.4902 - test_loss: 0.4422 - test_acc: 0.8320 - test_f1: 0.4673\n",
      "EarlyStopping counter: 1 out of 5 with f1 score 0.4672788042195246\n"
     ]
    },
    {
     "data": {
      "application/vnd.jupyter.widget-view+json": {
       "model_id": "c20d750e8ce04566a496189a816bf4d2",
       "version_major": 2,
       "version_minor": 0
      },
      "text/plain": [
       "Epoch 4:   0%|          | 0/110 [00:00<?, ?it/s]"
      ]
     },
     "metadata": {},
     "output_type": "display_data"
    },
    {
     "data": {
      "application/vnd.jupyter.widget-view+json": {
       "model_id": "c20e46f51a7b404d8991c22ebe717e29",
       "version_major": 2,
       "version_minor": 0
      },
      "text/plain": [
       "Epoch 4:   0%|          | 0/28 [00:00<?, ?it/s]"
      ]
     },
     "metadata": {},
     "output_type": "display_data"
    },
    {
     "name": "stdout",
     "output_type": "stream",
     "text": [
      "Epoch 3 - train_loss: 0.4182 - train_acc: 0.8433 - train_f1: 0.5193 - test_loss: 0.4387 - test_acc: 0.8366 - test_f1: 0.4939\n",
      "Validation loss decreased (0.449038 --> 0.438736), f1 score increased (0.467708 --> 0.493882).  Saving model ...\n"
     ]
    },
    {
     "data": {
      "application/vnd.jupyter.widget-view+json": {
       "model_id": "31e03d0cf30144a5b6b6c3fee720bf47",
       "version_major": 2,
       "version_minor": 0
      },
      "text/plain": [
       "Epoch 5:   0%|          | 0/110 [00:00<?, ?it/s]"
      ]
     },
     "metadata": {},
     "output_type": "display_data"
    },
    {
     "data": {
      "application/vnd.jupyter.widget-view+json": {
       "model_id": "fa068e1b3703421ead31f7d4122cbc92",
       "version_major": 2,
       "version_minor": 0
      },
      "text/plain": [
       "Epoch 5:   0%|          | 0/28 [00:00<?, ?it/s]"
      ]
     },
     "metadata": {},
     "output_type": "display_data"
    },
    {
     "name": "stdout",
     "output_type": "stream",
     "text": [
      "Epoch 4 - train_loss: 0.4067 - train_acc: 0.8487 - train_f1: 0.5483 - test_loss: 0.4366 - test_acc: 0.8366 - test_f1: 0.4939\n",
      "EarlyStopping counter: 1 out of 5 with f1 score 0.4938820912124583\n"
     ]
    },
    {
     "data": {
      "application/vnd.jupyter.widget-view+json": {
       "model_id": "23846ca73dcd433dbbaf5d5b83d3a4c8",
       "version_major": 2,
       "version_minor": 0
      },
      "text/plain": [
       "Epoch 6:   0%|          | 0/110 [00:00<?, ?it/s]"
      ]
     },
     "metadata": {},
     "output_type": "display_data"
    },
    {
     "data": {
      "application/vnd.jupyter.widget-view+json": {
       "model_id": "d18600b419884637b9a4e730b8c9538e",
       "version_major": 2,
       "version_minor": 0
      },
      "text/plain": [
       "Epoch 6:   0%|          | 0/28 [00:00<?, ?it/s]"
      ]
     },
     "metadata": {},
     "output_type": "display_data"
    },
    {
     "name": "stdout",
     "output_type": "stream",
     "text": [
      "Epoch 5 - train_loss: 0.3951 - train_acc: 0.8602 - train_f1: 0.6053 - test_loss: 0.4353 - test_acc: 0.8423 - test_f1: 0.5254\n",
      "Validation loss decreased (0.438736 --> 0.435275), f1 score increased (0.493882 --> 0.525354).  Saving model ...\n"
     ]
    },
    {
     "data": {
      "application/vnd.jupyter.widget-view+json": {
       "model_id": "4b31e3e1e4d2474a8c01871774dfacfd",
       "version_major": 2,
       "version_minor": 0
      },
      "text/plain": [
       "Epoch 7:   0%|          | 0/110 [00:00<?, ?it/s]"
      ]
     },
     "metadata": {},
     "output_type": "display_data"
    },
    {
     "data": {
      "application/vnd.jupyter.widget-view+json": {
       "model_id": "1b0a6525d8944d25b3b169dc4e837fe9",
       "version_major": 2,
       "version_minor": 0
      },
      "text/plain": [
       "Epoch 7:   0%|          | 0/28 [00:00<?, ?it/s]"
      ]
     },
     "metadata": {},
     "output_type": "display_data"
    },
    {
     "name": "stdout",
     "output_type": "stream",
     "text": [
      "Epoch 6 - train_loss: 0.3838 - train_acc: 0.8676 - train_f1: 0.6376 - test_loss: 0.4347 - test_acc: 0.8434 - test_f1: 0.5416\n",
      "Validation loss decreased (0.435275 --> 0.434686), f1 score increased (0.525354 --> 0.541631).  Saving model ...\n"
     ]
    },
    {
     "data": {
      "application/vnd.jupyter.widget-view+json": {
       "model_id": "61a33035842647b9abf845f8193d26ab",
       "version_major": 2,
       "version_minor": 0
      },
      "text/plain": [
       "Epoch 8:   0%|          | 0/110 [00:00<?, ?it/s]"
      ]
     },
     "metadata": {},
     "output_type": "display_data"
    },
    {
     "data": {
      "application/vnd.jupyter.widget-view+json": {
       "model_id": "a3af45bdda664dfb95d21ca101cf78ce",
       "version_major": 2,
       "version_minor": 0
      },
      "text/plain": [
       "Epoch 8:   0%|          | 0/28 [00:00<?, ?it/s]"
      ]
     },
     "metadata": {},
     "output_type": "display_data"
    },
    {
     "name": "stdout",
     "output_type": "stream",
     "text": [
      "Epoch 7 - train_loss: 0.3717 - train_acc: 0.8753 - train_f1: 0.6713 - test_loss: 0.4342 - test_acc: 0.8423 - test_f1: 0.5504\n",
      "Validation loss decreased (0.434686 --> 0.434224), f1 score increased (0.541631 --> 0.550447).  Saving model ...\n"
     ]
    },
    {
     "data": {
      "application/vnd.jupyter.widget-view+json": {
       "model_id": "b52d808fa5054fb388558b4f4de9d2cb",
       "version_major": 2,
       "version_minor": 0
      },
      "text/plain": [
       "Epoch 9:   0%|          | 0/110 [00:00<?, ?it/s]"
      ]
     },
     "metadata": {},
     "output_type": "display_data"
    },
    {
     "data": {
      "application/vnd.jupyter.widget-view+json": {
       "model_id": "5bcd4e997aa845f79b743e822b79df14",
       "version_major": 2,
       "version_minor": 0
      },
      "text/plain": [
       "Epoch 9:   0%|          | 0/28 [00:00<?, ?it/s]"
      ]
     },
     "metadata": {},
     "output_type": "display_data"
    },
    {
     "name": "stdout",
     "output_type": "stream",
     "text": [
      "Epoch 8 - train_loss: 0.3582 - train_acc: 0.8833 - train_f1: 0.7023 - test_loss: 0.4277 - test_acc: 0.8446 - test_f1: 0.5789\n",
      "Validation loss decreased (0.434224 --> 0.427664), f1 score increased (0.550447 --> 0.578910).  Saving model ...\n"
     ]
    },
    {
     "data": {
      "application/vnd.jupyter.widget-view+json": {
       "model_id": "311c5cf98cd04607b0d4b2c2713fba01",
       "version_major": 2,
       "version_minor": 0
      },
      "text/plain": [
       "Epoch 10:   0%|          | 0/110 [00:00<?, ?it/s]"
      ]
     },
     "metadata": {},
     "output_type": "display_data"
    },
    {
     "data": {
      "application/vnd.jupyter.widget-view+json": {
       "model_id": "30bb3e2958fb4e11bad7b2da678da4ac",
       "version_major": 2,
       "version_minor": 0
      },
      "text/plain": [
       "Epoch 10:   0%|          | 0/28 [00:00<?, ?it/s]"
      ]
     },
     "metadata": {},
     "output_type": "display_data"
    },
    {
     "name": "stdout",
     "output_type": "stream",
     "text": [
      "Epoch 9 - train_loss: 0.3418 - train_acc: 0.8870 - train_f1: 0.7227 - test_loss: 0.4342 - test_acc: 0.8446 - test_f1: 0.5704\n",
      "EarlyStopping counter: 1 out of 5 with f1 score 0.5704343305995148\n"
     ]
    },
    {
     "data": {
      "application/vnd.jupyter.widget-view+json": {
       "model_id": "0f3835a835764f25ae9979b361a037d3",
       "version_major": 2,
       "version_minor": 0
      },
      "text/plain": [
       "Epoch 11:   0%|          | 0/110 [00:00<?, ?it/s]"
      ]
     },
     "metadata": {},
     "output_type": "display_data"
    },
    {
     "data": {
      "application/vnd.jupyter.widget-view+json": {
       "model_id": "b59c9f1dc3ea4e48b6b2808cf006e307",
       "version_major": 2,
       "version_minor": 0
      },
      "text/plain": [
       "Epoch 11:   0%|          | 0/28 [00:00<?, ?it/s]"
      ]
     },
     "metadata": {},
     "output_type": "display_data"
    },
    {
     "name": "stdout",
     "output_type": "stream",
     "text": [
      "Epoch 10 - train_loss: 0.3354 - train_acc: 0.8870 - train_f1: 0.7185 - test_loss: 0.4257 - test_acc: 0.8434 - test_f1: 0.5974\n",
      "Validation loss decreased (0.427664 --> 0.425675), f1 score increased (0.578910 --> 0.597423).  Saving model ...\n"
     ]
    },
    {
     "data": {
      "application/vnd.jupyter.widget-view+json": {
       "model_id": "9992a74f59b4449a8ac3c0633504c576",
       "version_major": 2,
       "version_minor": 0
      },
      "text/plain": [
       "Epoch 12:   0%|          | 0/110 [00:00<?, ?it/s]"
      ]
     },
     "metadata": {},
     "output_type": "display_data"
    },
    {
     "data": {
      "application/vnd.jupyter.widget-view+json": {
       "model_id": "6b1e8ae5faf54bf78643cb85b247acba",
       "version_major": 2,
       "version_minor": 0
      },
      "text/plain": [
       "Epoch 12:   0%|          | 0/28 [00:00<?, ?it/s]"
      ]
     },
     "metadata": {},
     "output_type": "display_data"
    },
    {
     "name": "stdout",
     "output_type": "stream",
     "text": [
      "Epoch 11 - train_loss: 0.3207 - train_acc: 0.8931 - train_f1: 0.7395 - test_loss: 0.4377 - test_acc: 0.8446 - test_f1: 0.5747\n",
      "EarlyStopping counter: 1 out of 5 with f1 score 0.5747205306344169\n"
     ]
    },
    {
     "data": {
      "application/vnd.jupyter.widget-view+json": {
       "model_id": "92c6bf49db234121a600dabb5eb19351",
       "version_major": 2,
       "version_minor": 0
      },
      "text/plain": [
       "Epoch 13:   0%|          | 0/110 [00:00<?, ?it/s]"
      ]
     },
     "metadata": {},
     "output_type": "display_data"
    },
    {
     "data": {
      "application/vnd.jupyter.widget-view+json": {
       "model_id": "0fdf8860ff844826a2b714afba033c47",
       "version_major": 2,
       "version_minor": 0
      },
      "text/plain": [
       "Epoch 13:   0%|          | 0/28 [00:00<?, ?it/s]"
      ]
     },
     "metadata": {},
     "output_type": "display_data"
    },
    {
     "name": "stdout",
     "output_type": "stream",
     "text": [
      "Epoch 12 - train_loss: 0.3214 - train_acc: 0.8910 - train_f1: 0.7343 - test_loss: 0.4453 - test_acc: 0.8411 - test_f1: 0.5632\n",
      "EarlyStopping counter: 2 out of 5 with f1 score 0.5631615431307264\n"
     ]
    },
    {
     "data": {
      "application/vnd.jupyter.widget-view+json": {
       "model_id": "ab12082725254150949d933e8f46e8ae",
       "version_major": 2,
       "version_minor": 0
      },
      "text/plain": [
       "Epoch 14:   0%|          | 0/110 [00:00<?, ?it/s]"
      ]
     },
     "metadata": {},
     "output_type": "display_data"
    },
    {
     "data": {
      "application/vnd.jupyter.widget-view+json": {
       "model_id": "b1898d8aa6a64a1bacee3e3b9a821178",
       "version_major": 2,
       "version_minor": 0
      },
      "text/plain": [
       "Epoch 14:   0%|          | 0/28 [00:00<?, ?it/s]"
      ]
     },
     "metadata": {},
     "output_type": "display_data"
    },
    {
     "name": "stdout",
     "output_type": "stream",
     "text": [
      "Epoch 13 - train_loss: 0.3195 - train_acc: 0.8908 - train_f1: 0.7298 - test_loss: 0.4500 - test_acc: 0.8480 - test_f1: 0.6055\n",
      "Validation loss decreased (0.425675 --> 0.449976), f1 score increased (0.597423 --> 0.605547).  Saving model ...\n"
     ]
    },
    {
     "data": {
      "application/vnd.jupyter.widget-view+json": {
       "model_id": "147f01eb471d40d1b7f5a54f54f352ad",
       "version_major": 2,
       "version_minor": 0
      },
      "text/plain": [
       "Epoch 15:   0%|          | 0/110 [00:00<?, ?it/s]"
      ]
     },
     "metadata": {},
     "output_type": "display_data"
    },
    {
     "data": {
      "application/vnd.jupyter.widget-view+json": {
       "model_id": "d8b6fa9020334a8bb44a84ae4212176f",
       "version_major": 2,
       "version_minor": 0
      },
      "text/plain": [
       "Epoch 15:   0%|          | 0/28 [00:00<?, ?it/s]"
      ]
     },
     "metadata": {},
     "output_type": "display_data"
    },
    {
     "name": "stdout",
     "output_type": "stream",
     "text": [
      "Epoch 14 - train_loss: 0.3111 - train_acc: 0.8951 - train_f1: 0.7462 - test_loss: 0.4845 - test_acc: 0.8469 - test_f1: 0.5851\n",
      "EarlyStopping counter: 1 out of 5 with f1 score 0.585102618542109\n"
     ]
    },
    {
     "data": {
      "application/vnd.jupyter.widget-view+json": {
       "model_id": "06bf0790feed48f68a38addca4d8b02f",
       "version_major": 2,
       "version_minor": 0
      },
      "text/plain": [
       "Epoch 16:   0%|          | 0/110 [00:00<?, ?it/s]"
      ]
     },
     "metadata": {},
     "output_type": "display_data"
    },
    {
     "data": {
      "application/vnd.jupyter.widget-view+json": {
       "model_id": "8261980d20eb47fc806e7f8b53e0e6ff",
       "version_major": 2,
       "version_minor": 0
      },
      "text/plain": [
       "Epoch 16:   0%|          | 0/28 [00:00<?, ?it/s]"
      ]
     },
     "metadata": {},
     "output_type": "display_data"
    },
    {
     "name": "stdout",
     "output_type": "stream",
     "text": [
      "Epoch 15 - train_loss: 0.3086 - train_acc: 0.8971 - train_f1: 0.7534 - test_loss: 0.4529 - test_acc: 0.8446 - test_f1: 0.5789\n",
      "EarlyStopping counter: 2 out of 5 with f1 score 0.5789101203113942\n"
     ]
    },
    {
     "data": {
      "application/vnd.jupyter.widget-view+json": {
       "model_id": "8c3b0d3728f446ada1ef58221940856a",
       "version_major": 2,
       "version_minor": 0
      },
      "text/plain": [
       "Epoch 17:   0%|          | 0/110 [00:00<?, ?it/s]"
      ]
     },
     "metadata": {},
     "output_type": "display_data"
    },
    {
     "data": {
      "application/vnd.jupyter.widget-view+json": {
       "model_id": "acc057cc97504176a6fce0c0b3558244",
       "version_major": 2,
       "version_minor": 0
      },
      "text/plain": [
       "Epoch 17:   0%|          | 0/28 [00:00<?, ?it/s]"
      ]
     },
     "metadata": {},
     "output_type": "display_data"
    },
    {
     "name": "stdout",
     "output_type": "stream",
     "text": [
      "Epoch 16 - train_loss: 0.3158 - train_acc: 0.8942 - train_f1: 0.7512 - test_loss: 0.5160 - test_acc: 0.8480 - test_f1: 0.5942\n",
      "EarlyStopping counter: 3 out of 5 with f1 score 0.5941742426620076\n"
     ]
    },
    {
     "data": {
      "application/vnd.jupyter.widget-view+json": {
       "model_id": "c2dbdc805b1441d89a4fbcc56064a38f",
       "version_major": 2,
       "version_minor": 0
      },
      "text/plain": [
       "Epoch 18:   0%|          | 0/110 [00:00<?, ?it/s]"
      ]
     },
     "metadata": {},
     "output_type": "display_data"
    },
    {
     "data": {
      "application/vnd.jupyter.widget-view+json": {
       "model_id": "7467bd275ccf4ffda711ed90daad7d17",
       "version_major": 2,
       "version_minor": 0
      },
      "text/plain": [
       "Epoch 18:   0%|          | 0/28 [00:00<?, ?it/s]"
      ]
     },
     "metadata": {},
     "output_type": "display_data"
    },
    {
     "name": "stdout",
     "output_type": "stream",
     "text": [
      "Epoch 17 - train_loss: 0.3015 - train_acc: 0.8973 - train_f1: 0.7523 - test_loss: 0.4620 - test_acc: 0.8423 - test_f1: 0.5727\n",
      "EarlyStopping counter: 4 out of 5 with f1 score 0.5727176220806794\n"
     ]
    },
    {
     "data": {
      "application/vnd.jupyter.widget-view+json": {
       "model_id": "caa0fb0a27aa4662b807a29da2e48c1d",
       "version_major": 2,
       "version_minor": 0
      },
      "text/plain": [
       "Epoch 19:   0%|          | 0/110 [00:00<?, ?it/s]"
      ]
     },
     "metadata": {},
     "output_type": "display_data"
    },
    {
     "data": {
      "application/vnd.jupyter.widget-view+json": {
       "model_id": "5d1692048db04f0a9f2556c12b1d8b83",
       "version_major": 2,
       "version_minor": 0
      },
      "text/plain": [
       "Epoch 19:   0%|          | 0/28 [00:00<?, ?it/s]"
      ]
     },
     "metadata": {},
     "output_type": "display_data"
    },
    {
     "name": "stdout",
     "output_type": "stream",
     "text": [
      "Epoch 18 - train_loss: 0.2969 - train_acc: 0.8988 - train_f1: 0.7600 - test_loss: 0.4596 - test_acc: 0.8434 - test_f1: 0.5860\n",
      "EarlyStopping counter: 5 out of 5 with f1 score 0.5859597616786116\n",
      "Early stopping\n"
     ]
    }
   ],
   "source": [
    "from train_tools import train_offline\n",
    "\n",
    "train_offline(\n",
    "    train_dataset=train_dataset,\n",
    "    test_dataset=test_dataset,\n",
    "    batch_size=32,\n",
    "    G=G,\n",
    "    F=F,\n",
    "    criterion=criterion,\n",
    "    optimizer=optimizer,\n",
    "    num_epochs=100,\n",
    "    device=device,\n",
    "    early_stopping=True,\n",
    "    patience=5,\n",
    "    verbose=True,\n",
    "    delta=0.001,\n",
    "    path=CHECKPOINT_DIR,\n",
    ")"
   ]
  }
 ],
 "metadata": {
  "kernelspec": {
   "display_name": "venv",
   "language": "python",
   "name": "python3"
  },
  "language_info": {
   "codemirror_mode": {
    "name": "ipython",
    "version": 3
   },
   "file_extension": ".py",
   "mimetype": "text/x-python",
   "name": "python",
   "nbconvert_exporter": "python",
   "pygments_lexer": "ipython3",
   "version": "3.10.11"
  },
  "orig_nbformat": 4
 },
 "nbformat": 4,
 "nbformat_minor": 2
}
