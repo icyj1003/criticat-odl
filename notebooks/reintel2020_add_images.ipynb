{
 "cells": [
  {
   "attachments": {},
   "cell_type": "markdown",
   "metadata": {},
   "source": [
    "## import packages\n"
   ]
  },
  {
   "cell_type": "code",
   "execution_count": 1,
   "metadata": {},
   "outputs": [],
   "source": [
    "import os\n",
    "import pickle\n",
    "from PIL import Image\n",
    "import numpy as np\n",
    "from tqdm.auto import tqdm\n",
    "import torch\n",
    "import sys\n",
    "\n",
    "# python files\n",
    "sys.path.insert(0, \"..\")\n",
    "from transforms import ImageTransform\n",
    "\n",
    "\n",
    "CUR_DIR = os.path.abspath(os.curdir)\n",
    "IMAGES_DIR = os.path.join(CUR_DIR, \"../data/reintel2020/public_train_final_images/\")\n",
    "CACHE_PATH = os.path.join(CUR_DIR, \"../.cache/\")"
   ]
  },
  {
   "attachments": {},
   "cell_type": "markdown",
   "metadata": {},
   "source": [
    "## load clean metadata\n"
   ]
  },
  {
   "cell_type": "code",
   "execution_count": 2,
   "metadata": {},
   "outputs": [],
   "source": [
    "cache = open(os.path.join(CACHE_PATH, \"pretrain_dataset.pkl\"), \"rb\")\n",
    "loaded_dataset = pickle.load(cache)"
   ]
  },
  {
   "attachments": {},
   "cell_type": "markdown",
   "metadata": {},
   "source": [
    "## append images\n",
    "\n",
    "- if there are no images, return zeros tensor of shape (3, 256, 256)\n"
   ]
  },
  {
   "cell_type": "code",
   "execution_count": 3,
   "metadata": {},
   "outputs": [
    {
     "data": {
      "application/vnd.jupyter.widget-view+json": {
       "model_id": "85dce40ac34c44058e904dd0ce2a2e1a",
       "version_major": 2,
       "version_minor": 0
      },
      "text/plain": [
       "  0%|          | 0/4372 [00:00<?, ?it/s]"
      ]
     },
     "metadata": {},
     "output_type": "display_data"
    }
   ],
   "source": [
    "new_records = []\n",
    "image_transform = ImageTransform()\n",
    "\n",
    "for record in tqdm(loaded_dataset):\n",
    "    path = os.path.join(IMAGES_DIR, str(record[\"id\"]))\n",
    "    temp = record\n",
    "\n",
    "    # if image exists\n",
    "    if os.path.exists(path):\n",
    "        for image in os.listdir(path):\n",
    "            temp[\"image\"] = image_transform(\n",
    "                np.array(Image.open(os.path.join(path, image)).convert(\"RGB\")).astype(\n",
    "                    float\n",
    "                )\n",
    "            )\n",
    "\n",
    "    # else create a zeros tensor\n",
    "    else:\n",
    "        temp[\"image\"] = torch.randint(0, 256, (3, 256, 256), dtype=float) / 255\n",
    "    new_records.append(temp)"
   ]
  },
  {
   "attachments": {},
   "cell_type": "markdown",
   "metadata": {},
   "source": [
    "## save dataset cache\n"
   ]
  },
  {
   "cell_type": "code",
   "execution_count": null,
   "metadata": {},
   "outputs": [],
   "source": [
    "# import pickle\n",
    "\n",
    "# total_length = len(new_records)\n",
    "# chunk = 128\n",
    "# num_chunks = int(total_length / chunk) + 1\n",
    "# cache_path_final = os.path.join(CACHE_PATH, \"reintel_final/\")\n",
    "\n",
    "# for i in range(num_chunks):\n",
    "#     if i * chunk < total_length:\n",
    "#         left = i * chunk\n",
    "#         right = min(total_length, i * chunk + chunk)\n",
    "\n",
    "#         # save buffer\n",
    "#         cache = open(os.path.join(os.path.join(cache_path_final), f\"{i}.pkl\"), \"wb\")\n",
    "#         pickle.dump(new_records[left:right], cache)\n",
    "#         cache.close()\n",
    "\n",
    "cache = open(os.path.join(os.path.join(CACHE_PATH), \"final.pkl\"), \"wb\")\n",
    "pickle.dump(new_records, cache)\n",
    "cache.close()"
   ]
  }
 ],
 "metadata": {
  "kernelspec": {
   "display_name": "venv",
   "language": "python",
   "name": "python3"
  },
  "language_info": {
   "codemirror_mode": {
    "name": "ipython",
    "version": 3
   },
   "file_extension": ".py",
   "mimetype": "text/x-python",
   "name": "python",
   "nbconvert_exporter": "python",
   "pygments_lexer": "ipython3",
   "version": "3.10.11"
  },
  "orig_nbformat": 4
 },
 "nbformat": 4,
 "nbformat_minor": 2
}
