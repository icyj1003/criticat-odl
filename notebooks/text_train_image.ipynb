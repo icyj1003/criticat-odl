{
 "cells": [
  {
   "cell_type": "code",
   "execution_count": 8,
   "metadata": {},
   "outputs": [],
   "source": [
    "import os\n",
    "import pickle\n",
    "import torch\n",
    "from PIL import Image\n",
    "import torchvision.transforms as T\n",
    "\n",
    "CUR_DIR = os.path.abspath(os.curdir)\n",
    "IMAGES_DIR = os.path.join(CUR_DIR, \"../data/reintel2020/public_train_final_images/\")\n",
    "CACHE_PATH = os.path.join(CUR_DIR, \"../.cache/\")"
   ]
  },
  {
   "cell_type": "code",
   "execution_count": 9,
   "metadata": {},
   "outputs": [],
   "source": [
    "cache = open(os.path.join(CACHE_PATH, \"pretrain_dataset.pkl\"), \"rb\")\n",
    "loaded_dataset = pickle.load(cache)"
   ]
  },
  {
   "cell_type": "code",
   "execution_count": 10,
   "metadata": {},
   "outputs": [],
   "source": [
    "X = []\n",
    "y = []\n",
    "preprocess = T.Compose(\n",
    "    [\n",
    "        T.Resize(256),\n",
    "        T.CenterCrop(224),\n",
    "        T.ToTensor(),\n",
    "        T.Normalize(mean=[0.485, 0.456, 0.406], std=[0.229, 0.224, 0.225]),\n",
    "    ]\n",
    ")\n",
    "for record in loaded_dataset:\n",
    "    path = os.path.join(IMAGES_DIR, str(record[\"id\"]))\n",
    "    if os.path.exists(path):\n",
    "        for image in os.listdir(path):\n",
    "            X.append(preprocess(Image.open(os.path.join(path, image)).convert(\"RGB\")))\n",
    "            y.append(torch.tensor(record[\"label\"]))"
   ]
  },
  {
   "cell_type": "code",
   "execution_count": 11,
   "metadata": {},
   "outputs": [],
   "source": [
    "from torch.utils.data import Dataset, DataLoader\n",
    "from typing import Any\n",
    "\n",
    "\n",
    "class CustomDataset(Dataset):\n",
    "    def __init__(self, X, y):\n",
    "        self.X = X\n",
    "        self.y = y\n",
    "\n",
    "    def __getitem__(self, index) -> Any:\n",
    "        return X[index], y[index]\n",
    "\n",
    "    def __len__(self) -> int:\n",
    "        return len(self.X)\n",
    "\n",
    "\n",
    "train_dataset = CustomDataset(X[:1500], y[:1500])\n",
    "dev_dataset = CustomDataset(X[1500:], y[1500:])\n",
    "train_iter = DataLoader(train_dataset, batch_size=20)\n",
    "dev_iter = DataLoader(dev_dataset, batch_size=20)"
   ]
  },
  {
   "cell_type": "code",
   "execution_count": 12,
   "metadata": {},
   "outputs": [],
   "source": [
    "import pickle\n",
    "\n",
    "cache = open(os.path.join(CACHE_PATH, \"train_image.pkl\"), \"wb\")\n",
    "pickle.dump(train_dataset, cache)\n",
    "\n",
    "cache = open(os.path.join(CACHE_PATH, \"dev_image.pkl\"), \"wb\")\n",
    "pickle.dump(dev_dataset, cache)"
   ]
  },
  {
   "cell_type": "code",
   "execution_count": 13,
   "metadata": {},
   "outputs": [
    {
     "name": "stderr",
     "output_type": "stream",
     "text": [
      "Using cache found in C:\\Users\\anhbu/.cache\\torch\\hub\\pytorch_vision_v0.10.0\n"
     ]
    }
   ],
   "source": [
    "import sys\n",
    "import torch.nn as nn\n",
    "from torch import optim\n",
    "\n",
    "sys.path.insert(0, \"..\")\n",
    "from trainer import Trainer\n",
    "\n",
    "model = torch.hub.load(\n",
    "    \"pytorch/vision:v0.10.0\", \"resnet18\", weights=\"ResNet18_Weights.DEFAULT\"\n",
    ")\n",
    "model.fc = nn.Linear(model.fc.in_features, 2)\n",
    "\n",
    "trainer = Trainer(\n",
    "    model=model,\n",
    "    epochs=10,\n",
    "    optimizer=optim.Adam,\n",
    "    criterion=nn.CrossEntropyLoss(),\n",
    "    train_iter=train_iter,\n",
    "    eval_iter=dev_iter,\n",
    ")"
   ]
  },
  {
   "cell_type": "code",
   "execution_count": 14,
   "metadata": {},
   "outputs": [
    {
     "data": {
      "application/vnd.jupyter.widget-view+json": {
       "model_id": "cc647fde7fc44fb199ef96e5d1c9ad6c",
       "version_major": 2,
       "version_minor": 0
      },
      "text/plain": [
       "Epoch: 000:   0%|          | 0/75 [00:00<?, ?steps/s]"
      ]
     },
     "metadata": {},
     "output_type": "display_data"
    },
    {
     "data": {
      "application/vnd.jupyter.widget-view+json": {
       "model_id": "afead9b1d5354344b2d69d7bb3b9628a",
       "version_major": 2,
       "version_minor": 0
      },
      "text/plain": [
       "Epoch: 000:   0%|          | 0/22 [00:00<?, ?steps/s]"
      ]
     },
     "metadata": {},
     "output_type": "display_data"
    },
    {
     "name": "stdout",
     "output_type": "stream",
     "text": [
      "Epoch: 001 | Train Loss: 0.767 | Train Acc: 77.07% | Eval Loss: 0.713 | Eval Acc: 70.23%\n"
     ]
    },
    {
     "data": {
      "application/vnd.jupyter.widget-view+json": {
       "model_id": "db00655890884b0dbf4d9503a6e3f3f6",
       "version_major": 2,
       "version_minor": 0
      },
      "text/plain": [
       "Epoch: 001:   0%|          | 0/75 [00:00<?, ?steps/s]"
      ]
     },
     "metadata": {},
     "output_type": "display_data"
    },
    {
     "data": {
      "application/vnd.jupyter.widget-view+json": {
       "model_id": "e07354bbaf60457f8cb74854ea91cabd",
       "version_major": 2,
       "version_minor": 0
      },
      "text/plain": [
       "Epoch: 001:   0%|          | 0/22 [00:00<?, ?steps/s]"
      ]
     },
     "metadata": {},
     "output_type": "display_data"
    },
    {
     "name": "stdout",
     "output_type": "stream",
     "text": [
      "Epoch: 002 | Train Loss: 0.572 | Train Acc: 80.20% | Eval Loss: 1.990 | Eval Acc: 70.23%\n"
     ]
    },
    {
     "data": {
      "application/vnd.jupyter.widget-view+json": {
       "model_id": "47aea575c00e4e1ab713e93be253a402",
       "version_major": 2,
       "version_minor": 0
      },
      "text/plain": [
       "Epoch: 002:   0%|          | 0/75 [00:00<?, ?steps/s]"
      ]
     },
     "metadata": {},
     "output_type": "display_data"
    },
    {
     "data": {
      "application/vnd.jupyter.widget-view+json": {
       "model_id": "41649cbb9cbc4067a99614046cbc9021",
       "version_major": 2,
       "version_minor": 0
      },
      "text/plain": [
       "Epoch: 002:   0%|          | 0/22 [00:00<?, ?steps/s]"
      ]
     },
     "metadata": {},
     "output_type": "display_data"
    },
    {
     "name": "stdout",
     "output_type": "stream",
     "text": [
      "Epoch: 003 | Train Loss: 0.584 | Train Acc: 78.93% | Eval Loss: 2.019 | Eval Acc: 70.23%\n"
     ]
    },
    {
     "data": {
      "application/vnd.jupyter.widget-view+json": {
       "model_id": "ce92436ec40842cc8e05b6dcaee16e32",
       "version_major": 2,
       "version_minor": 0
      },
      "text/plain": [
       "Epoch: 003:   0%|          | 0/75 [00:00<?, ?steps/s]"
      ]
     },
     "metadata": {},
     "output_type": "display_data"
    },
    {
     "data": {
      "application/vnd.jupyter.widget-view+json": {
       "model_id": "c75184b881c54a09a7456683c751274c",
       "version_major": 2,
       "version_minor": 0
      },
      "text/plain": [
       "Epoch: 003:   0%|          | 0/22 [00:00<?, ?steps/s]"
      ]
     },
     "metadata": {},
     "output_type": "display_data"
    },
    {
     "name": "stdout",
     "output_type": "stream",
     "text": [
      "Epoch: 004 | Train Loss: 0.597 | Train Acc: 80.07% | Eval Loss: 1.004 | Eval Acc: 70.23%\n"
     ]
    },
    {
     "data": {
      "application/vnd.jupyter.widget-view+json": {
       "model_id": "b969b54075bb4dc9ab6946edc1e604ed",
       "version_major": 2,
       "version_minor": 0
      },
      "text/plain": [
       "Epoch: 004:   0%|          | 0/75 [00:00<?, ?steps/s]"
      ]
     },
     "metadata": {},
     "output_type": "display_data"
    },
    {
     "data": {
      "application/vnd.jupyter.widget-view+json": {
       "model_id": "2d457dc2b6264cd198d014d2dd25428d",
       "version_major": 2,
       "version_minor": 0
      },
      "text/plain": [
       "Epoch: 004:   0%|          | 0/22 [00:00<?, ?steps/s]"
      ]
     },
     "metadata": {},
     "output_type": "display_data"
    },
    {
     "name": "stdout",
     "output_type": "stream",
     "text": [
      "Epoch: 005 | Train Loss: 0.569 | Train Acc: 80.47% | Eval Loss: 1.536 | Eval Acc: 70.23%\n"
     ]
    },
    {
     "data": {
      "application/vnd.jupyter.widget-view+json": {
       "model_id": "eccf928a2d3d4633bc9ccede9317b09b",
       "version_major": 2,
       "version_minor": 0
      },
      "text/plain": [
       "Epoch: 005:   0%|          | 0/75 [00:00<?, ?steps/s]"
      ]
     },
     "metadata": {},
     "output_type": "display_data"
    },
    {
     "data": {
      "application/vnd.jupyter.widget-view+json": {
       "model_id": "c92a510842894de09754e1f1e8f5e3ba",
       "version_major": 2,
       "version_minor": 0
      },
      "text/plain": [
       "Epoch: 005:   0%|          | 0/22 [00:00<?, ?steps/s]"
      ]
     },
     "metadata": {},
     "output_type": "display_data"
    },
    {
     "name": "stdout",
     "output_type": "stream",
     "text": [
      "Epoch: 006 | Train Loss: 0.573 | Train Acc: 79.87% | Eval Loss: 1.366 | Eval Acc: 70.23%\n"
     ]
    },
    {
     "data": {
      "application/vnd.jupyter.widget-view+json": {
       "model_id": "b83e12cbe348457caf13f2684c375424",
       "version_major": 2,
       "version_minor": 0
      },
      "text/plain": [
       "Epoch: 006:   0%|          | 0/75 [00:00<?, ?steps/s]"
      ]
     },
     "metadata": {},
     "output_type": "display_data"
    },
    {
     "data": {
      "application/vnd.jupyter.widget-view+json": {
       "model_id": "c447587ac6a64b2fb93eb366c9ae843e",
       "version_major": 2,
       "version_minor": 0
      },
      "text/plain": [
       "Epoch: 006:   0%|          | 0/22 [00:00<?, ?steps/s]"
      ]
     },
     "metadata": {},
     "output_type": "display_data"
    },
    {
     "name": "stdout",
     "output_type": "stream",
     "text": [
      "Epoch: 007 | Train Loss: 0.553 | Train Acc: 80.13% | Eval Loss: 2.209 | Eval Acc: 70.23%\n"
     ]
    },
    {
     "data": {
      "application/vnd.jupyter.widget-view+json": {
       "model_id": "747aed08d31d4617b285b9127314bf49",
       "version_major": 2,
       "version_minor": 0
      },
      "text/plain": [
       "Epoch: 007:   0%|          | 0/75 [00:00<?, ?steps/s]"
      ]
     },
     "metadata": {},
     "output_type": "display_data"
    },
    {
     "data": {
      "application/vnd.jupyter.widget-view+json": {
       "model_id": "917d27a93fba496baab24616140a26c1",
       "version_major": 2,
       "version_minor": 0
      },
      "text/plain": [
       "Epoch: 007:   0%|          | 0/22 [00:00<?, ?steps/s]"
      ]
     },
     "metadata": {},
     "output_type": "display_data"
    },
    {
     "name": "stdout",
     "output_type": "stream",
     "text": [
      "Epoch: 008 | Train Loss: 0.559 | Train Acc: 80.00% | Eval Loss: 0.914 | Eval Acc: 70.23%\n"
     ]
    },
    {
     "data": {
      "application/vnd.jupyter.widget-view+json": {
       "model_id": "4edaa14102914e02afb3d10813fa6d41",
       "version_major": 2,
       "version_minor": 0
      },
      "text/plain": [
       "Epoch: 008:   0%|          | 0/75 [00:00<?, ?steps/s]"
      ]
     },
     "metadata": {},
     "output_type": "display_data"
    },
    {
     "data": {
      "application/vnd.jupyter.widget-view+json": {
       "model_id": "67e1598b89b040c6b2c03e4eee82fd36",
       "version_major": 2,
       "version_minor": 0
      },
      "text/plain": [
       "Epoch: 008:   0%|          | 0/22 [00:00<?, ?steps/s]"
      ]
     },
     "metadata": {},
     "output_type": "display_data"
    },
    {
     "name": "stdout",
     "output_type": "stream",
     "text": [
      "Epoch: 009 | Train Loss: 0.547 | Train Acc: 80.20% | Eval Loss: 0.688 | Eval Acc: 70.23%\n"
     ]
    },
    {
     "data": {
      "application/vnd.jupyter.widget-view+json": {
       "model_id": "277f3bd472ad47be8a9736e0403bedef",
       "version_major": 2,
       "version_minor": 0
      },
      "text/plain": [
       "Epoch: 009:   0%|          | 0/75 [00:00<?, ?steps/s]"
      ]
     },
     "metadata": {},
     "output_type": "display_data"
    },
    {
     "data": {
      "application/vnd.jupyter.widget-view+json": {
       "model_id": "881fc21e15204ca0b85da1f832ef1b0a",
       "version_major": 2,
       "version_minor": 0
      },
      "text/plain": [
       "Epoch: 009:   0%|          | 0/22 [00:00<?, ?steps/s]"
      ]
     },
     "metadata": {},
     "output_type": "display_data"
    },
    {
     "name": "stdout",
     "output_type": "stream",
     "text": [
      "Epoch: 010 | Train Loss: 0.528 | Train Acc: 80.20% | Eval Loss: 0.685 | Eval Acc: 70.00%\n"
     ]
    }
   ],
   "source": [
    "trainer.fit()"
   ]
  }
 ],
 "metadata": {
  "kernelspec": {
   "display_name": "venv",
   "language": "python",
   "name": "python3"
  },
  "language_info": {
   "codemirror_mode": {
    "name": "ipython",
    "version": 3
   },
   "file_extension": ".py",
   "mimetype": "text/x-python",
   "name": "python",
   "nbconvert_exporter": "python",
   "pygments_lexer": "ipython3",
   "version": "3.10.11"
  },
  "orig_nbformat": 4
 },
 "nbformat": 4,
 "nbformat_minor": 2
}
