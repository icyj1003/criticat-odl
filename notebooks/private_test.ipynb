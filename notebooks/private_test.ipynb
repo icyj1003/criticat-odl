{
 "cells": [
  {
   "cell_type": "code",
   "execution_count": 1,
   "metadata": {},
   "outputs": [],
   "source": [
    "import pandas as pd\n",
    "import matplotlib\n",
    "import matplotlib.pyplot as plt\n",
    "from tqdm.auto import tqdm\n",
    "from PIL import Image\n",
    "import os\n",
    "import sys\n",
    "\n",
    "sys.path.insert(0, \"..\")\n",
    "from preprocess import VietnameseTextCleaner\n",
    "from utils import dict_handler\n",
    "from transforms import ImageTransform\n",
    "\n",
    "\n",
    "matplotlib.style.use(\"ggplot\")"
   ]
  },
  {
   "cell_type": "code",
   "execution_count": 2,
   "metadata": {},
   "outputs": [],
   "source": [
    "CUR_DIR = os.path.abspath(os.curdir)\n",
    "VNCORE_NLP_PATH = os.path.join(CUR_DIR, \"../vncorenlp/\")\n",
    "STOPWORDS_PATH = os.path.join(CUR_DIR, \"../stop_words/vietnamese-stopwords-dash.txt\")\n",
    "\n",
    "cleaner = VietnameseTextCleaner(\n",
    "    stopwords_path=STOPWORDS_PATH,\n",
    "    vncorenlp_path=VNCORE_NLP_PATH,\n",
    "    cur_dir=CUR_DIR,\n",
    ")"
   ]
  },
  {
   "cell_type": "code",
   "execution_count": 4,
   "metadata": {},
   "outputs": [],
   "source": [
    "df = pd.read_csv(r\"C:\\Users\\anhbu\\Desktop\\new_odl\\data\\reintel2020\\private_test.csv\")"
   ]
  },
  {
   "cell_type": "code",
   "execution_count": 9,
   "metadata": {},
   "outputs": [],
   "source": [
    "df = df[[\"id\", \"post_message\"]]\n",
    "df.post_message = df.post_message.apply(cleaner.clean_one)"
   ]
  },
  {
   "cell_type": "code",
   "execution_count": 11,
   "metadata": {},
   "outputs": [],
   "source": [
    "id = df.id.values\n",
    "post_message = df.post_message.values"
   ]
  },
  {
   "cell_type": "code",
   "execution_count": null,
   "metadata": {},
   "outputs": [],
   "source": [
    "import torch\n",
    "\n",
    "torch.save(\n",
    "    {\"id\": id, \"post_message\": post_message},\n",
    "    \"private_test_cleaned.pt\",\n",
    ")"
   ]
  },
  {
   "cell_type": "code",
   "execution_count": 1,
   "metadata": {},
   "outputs": [
    {
     "data": {
      "text/plain": [
       "BertEmbedding(\n",
       "  (bert): RobertaModel(\n",
       "    (embeddings): RobertaEmbeddings(\n",
       "      (word_embeddings): Embedding(64001, 768, padding_idx=1)\n",
       "      (position_embeddings): Embedding(258, 768, padding_idx=1)\n",
       "      (token_type_embeddings): Embedding(1, 768)\n",
       "      (LayerNorm): LayerNorm((768,), eps=1e-05, elementwise_affine=True)\n",
       "      (dropout): Dropout(p=0.1, inplace=False)\n",
       "    )\n",
       "    (encoder): RobertaEncoder(\n",
       "      (layer): ModuleList(\n",
       "        (0-11): 12 x RobertaLayer(\n",
       "          (attention): RobertaAttention(\n",
       "            (self): RobertaSelfAttention(\n",
       "              (query): Linear(in_features=768, out_features=768, bias=True)\n",
       "              (key): Linear(in_features=768, out_features=768, bias=True)\n",
       "              (value): Linear(in_features=768, out_features=768, bias=True)\n",
       "              (dropout): Dropout(p=0.1, inplace=False)\n",
       "            )\n",
       "            (output): RobertaSelfOutput(\n",
       "              (dense): Linear(in_features=768, out_features=768, bias=True)\n",
       "              (LayerNorm): LayerNorm((768,), eps=1e-05, elementwise_affine=True)\n",
       "              (dropout): Dropout(p=0.1, inplace=False)\n",
       "            )\n",
       "          )\n",
       "          (intermediate): RobertaIntermediate(\n",
       "            (dense): Linear(in_features=768, out_features=3072, bias=True)\n",
       "            (intermediate_act_fn): GELUActivation()\n",
       "          )\n",
       "          (output): RobertaOutput(\n",
       "            (dense): Linear(in_features=3072, out_features=768, bias=True)\n",
       "            (LayerNorm): LayerNorm((768,), eps=1e-05, elementwise_affine=True)\n",
       "            (dropout): Dropout(p=0.1, inplace=False)\n",
       "          )\n",
       "        )\n",
       "      )\n",
       "    )\n",
       "    (pooler): RobertaPooler(\n",
       "      (dense): Linear(in_features=768, out_features=768, bias=True)\n",
       "      (activation): Tanh()\n",
       "    )\n",
       "  )\n",
       ")"
      ]
     },
     "execution_count": 1,
     "metadata": {},
     "output_type": "execute_result"
    }
   ],
   "source": [
    "import sys\n",
    "import torch\n",
    "\n",
    "sys.path.insert(0, \"..\")\n",
    "from module import TextCNN, BertEmbedding\n",
    "import torch.nn as nn\n",
    "\n",
    "\n",
    "MAX_LENGTH = 65\n",
    "EMBEDDING_DIM = 768\n",
    "NUM_FILTERS = 100\n",
    "FILTER_SIZES = [3, 4, 5]\n",
    "LR = 1e-5\n",
    "\n",
    "device = torch.device(\"cuda\" if torch.cuda.is_available() else \"cpu\")\n",
    "\n",
    "G = BertEmbedding(max_length=MAX_LENGTH, device=device).to(device)\n",
    "F = TextCNN(EMBEDDING_DIM, NUM_FILTERS, FILTER_SIZES).to(device)\n",
    "\n",
    "cache = torch.load(\n",
    "    \"D:/storage/odl/checkpoints/offline/reintel2020/TextCNN_BERT/checkpoint.pt\"\n",
    ")\n",
    "F.load_state_dict(cache[\"model_F\"])\n",
    "G.load_state_dict(cache[\"model_G\"])\n",
    "\n",
    "F.eval()\n",
    "G.eval()"
   ]
  },
  {
   "cell_type": "code",
   "execution_count": 2,
   "metadata": {},
   "outputs": [],
   "source": [
    "import torch\n",
    "import numpy\n",
    "\n",
    "test = torch.load(\"./private_test_cleaned.pt\")\n",
    "id = test[\"id\"]\n",
    "post_message = test[\"post_message\"]\n",
    "\n",
    "label = []\n",
    "\n",
    "for batch in numpy.array_split(numpy.array(post_message), 50):\n",
    "    embbed = G(batch)\n",
    "    label += torch.softmax(F(embbed), dim=1)[:, 1].tolist()\n",
    "\n",
    "import pandas as pd\n",
    "\n",
    "df = pd.DataFrame({\"id\": id, \"label\": label})\n",
    "df.to_csv(\"./results.csv\", index=False, header=False)"
   ]
  }
 ],
 "metadata": {
  "kernelspec": {
   "display_name": "venv",
   "language": "python",
   "name": "python3"
  },
  "language_info": {
   "codemirror_mode": {
    "name": "ipython",
    "version": 3
   },
   "file_extension": ".py",
   "mimetype": "text/x-python",
   "name": "python",
   "nbconvert_exporter": "python",
   "pygments_lexer": "ipython3",
   "version": "3.10.11"
  },
  "orig_nbformat": 4
 },
 "nbformat": 4,
 "nbformat_minor": 2
}
