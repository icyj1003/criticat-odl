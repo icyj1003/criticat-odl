{
 "cells": [
  {
   "cell_type": "code",
   "execution_count": 2,
   "metadata": {},
   "outputs": [],
   "source": [
    "# packages\n",
    "import os\n",
    "import sys\n",
    "import pickle\n",
    "from torch.utils.data import DataLoader\n",
    "from tqdm.auto import tqdm\n",
    "import torch.nn as nn\n",
    "import torch.optim as optim\n",
    "from IPython.display import clear_output\n",
    "import wandb\n",
    "\n",
    "# python files\n",
    "sys.path.insert(0, \"..\")\n",
    "\n",
    "from trainer import Trainer\n",
    "from transforms import TextTransform, ImageTransform\n",
    "from datasets import TestingDataset\n",
    "from module import *\n",
    "from vocabulary import Vocabulary\n",
    "from metrics import accuracy"
   ]
  },
  {
   "cell_type": "code",
   "execution_count": 3,
   "metadata": {},
   "outputs": [],
   "source": [
    "CUR_DIR = os.path.abspath(os.curdir)\n",
    "IMAGES_DIR = os.path.join(CUR_DIR, \"../data/reintel2020/public_train_final_images/\")\n",
    "CACHE_PATH = os.path.join(CUR_DIR, \"../.cache/\")"
   ]
  },
  {
   "cell_type": "code",
   "execution_count": 4,
   "metadata": {},
   "outputs": [],
   "source": [
    "cache = open(os.path.join(CACHE_PATH, \"pretrain_dataset.pkl\"), \"rb\")\n",
    "loaded_dataset = pickle.load(cache)"
   ]
  },
  {
   "cell_type": "code",
   "execution_count": 5,
   "metadata": {},
   "outputs": [],
   "source": [
    "dataset = TestingDataset(loaded_dataset)\n",
    "dataloader = DataLoader(dataset, batch_size=128)"
   ]
  },
  {
   "cell_type": "code",
   "execution_count": 6,
   "metadata": {},
   "outputs": [],
   "source": [
    "tokenizer = lambda x: [_.split() for _ in x]"
   ]
  },
  {
   "cell_type": "code",
   "execution_count": 7,
   "metadata": {},
   "outputs": [],
   "source": [
    "class PrequentialMetrics:\n",
    "    def __init__(self, values=0):\n",
    "        self.values = values\n",
    "        self.t = 0\n",
    "\n",
    "    def update(self, value):\n",
    "        self.values = (self.values * self.t + value) / (self.t + 1)\n",
    "        self.t += 1\n",
    "\n",
    "    def __repr__(self) -> str:\n",
    "        return repr(self.values)"
   ]
  },
  {
   "cell_type": "code",
   "execution_count": 8,
   "metadata": {},
   "outputs": [],
   "source": [
    "class Ensemble(nn.Module):\n",
    "    def __init__(self, text_model, image_model, num_classes):\n",
    "        super(Ensemble, self).__init__()\n",
    "        self.text_model = text_model\n",
    "        self.image_model = image_model\n",
    "        self.weights = nn.Parameter(torch.ones(2) / 2, requires_grad=True)\n",
    "\n",
    "    def forward(self, text, image):\n",
    "        out_text = self.text_model(text)\n",
    "        out_image = self.image_model(image)\n",
    "\n",
    "        out = (\n",
    "            out_text * self.weights[0] + out_image * self.weights[1]\n",
    "        ) / self.weights.sum()\n",
    "\n",
    "        return F.softmax(out, dim=1)"
   ]
  },
  {
   "cell_type": "code",
   "execution_count": 12,
   "metadata": {},
   "outputs": [
    {
     "data": {
      "text/html": [
       "Finishing last run (ID:uti036ab) before initializing another..."
      ],
      "text/plain": [
       "<IPython.core.display.HTML object>"
      ]
     },
     "metadata": {},
     "output_type": "display_data"
    },
    {
     "data": {
      "text/html": [
       "Waiting for W&B process to finish... <strong style=\"color:green\">(success).</strong>"
      ],
      "text/plain": [
       "<IPython.core.display.HTML object>"
      ]
     },
     "metadata": {},
     "output_type": "display_data"
    },
    {
     "data": {
      "application/vnd.jupyter.widget-view+json": {
       "model_id": "643958927bd64233b1cad659ed09318a",
       "version_major": 2,
       "version_minor": 0
      },
      "text/plain": [
       "VBox(children=(Label(value='0.002 MB of 0.011 MB uploaded (0.000 MB deduped)\\r'), FloatProgress(value=0.150805…"
      ]
     },
     "metadata": {},
     "output_type": "display_data"
    },
    {
     "data": {
      "text/html": [
       " View run <strong style=\"color:#cdcd00\">mild-serenity-2</strong> at: <a href='https://wandb.ai/noticy/odl/runs/uti036ab' target=\"_blank\">https://wandb.ai/noticy/odl/runs/uti036ab</a><br/>Synced 5 W&B file(s), 0 media file(s), 0 artifact file(s) and 0 other file(s)"
      ],
      "text/plain": [
       "<IPython.core.display.HTML object>"
      ]
     },
     "metadata": {},
     "output_type": "display_data"
    },
    {
     "data": {
      "text/html": [
       "Find logs at: <code>.\\wandb\\run-20230508_100825-uti036ab\\logs</code>"
      ],
      "text/plain": [
       "<IPython.core.display.HTML object>"
      ]
     },
     "metadata": {},
     "output_type": "display_data"
    },
    {
     "data": {
      "text/html": [
       "Successfully finished last run (ID:uti036ab). Initializing new run:<br/>"
      ],
      "text/plain": [
       "<IPython.core.display.HTML object>"
      ]
     },
     "metadata": {},
     "output_type": "display_data"
    },
    {
     "data": {
      "application/vnd.jupyter.widget-view+json": {
       "model_id": "e817afe0d3e347a8beb3631b0a5c8b09",
       "version_major": 2,
       "version_minor": 0
      },
      "text/plain": [
       "VBox(children=(Label(value='Waiting for wandb.init()...\\r'), FloatProgress(value=0.016666666666666666, max=1.0…"
      ]
     },
     "metadata": {},
     "output_type": "display_data"
    },
    {
     "data": {
      "text/html": [
       "Tracking run with wandb version 0.15.2"
      ],
      "text/plain": [
       "<IPython.core.display.HTML object>"
      ]
     },
     "metadata": {},
     "output_type": "display_data"
    },
    {
     "data": {
      "text/html": [
       "Run data is saved locally in <code>c:\\Users\\anhbu\\Desktop\\new_odl\\notebooks\\wandb\\run-20230508_100948-5hwx3lz0</code>"
      ],
      "text/plain": [
       "<IPython.core.display.HTML object>"
      ]
     },
     "metadata": {},
     "output_type": "display_data"
    },
    {
     "data": {
      "text/html": [
       "Syncing run <strong><a href='https://wandb.ai/noticy/odl/runs/5hwx3lz0' target=\"_blank\">eager-jazz-3</a></strong> to <a href='https://wandb.ai/noticy/odl' target=\"_blank\">Weights & Biases</a> (<a href='https://wandb.me/run' target=\"_blank\">docs</a>)<br/>"
      ],
      "text/plain": [
       "<IPython.core.display.HTML object>"
      ]
     },
     "metadata": {},
     "output_type": "display_data"
    },
    {
     "data": {
      "text/html": [
       " View project at <a href='https://wandb.ai/noticy/odl' target=\"_blank\">https://wandb.ai/noticy/odl</a>"
      ],
      "text/plain": [
       "<IPython.core.display.HTML object>"
      ]
     },
     "metadata": {},
     "output_type": "display_data"
    },
    {
     "data": {
      "text/html": [
       " View run at <a href='https://wandb.ai/noticy/odl/runs/5hwx3lz0' target=\"_blank\">https://wandb.ai/noticy/odl/runs/5hwx3lz0</a>"
      ],
      "text/plain": [
       "<IPython.core.display.HTML object>"
      ]
     },
     "metadata": {},
     "output_type": "display_data"
    }
   ],
   "source": [
    "# model\n",
    "text_model = LSTMClassifier(\n",
    "    vocab_size=100000, embedding_dim=100, hidden_dim=128, num_classes=2\n",
    ")\n",
    "\n",
    "image_model = Resnet18(num_classes=2)\n",
    "\n",
    "device = torch.device(\"cuda\" if torch.cuda.is_available() else \"cpu\")\n",
    "\n",
    "model = Ensemble(text_model=text_model, image_model=image_model, num_classes=2)\n",
    "\n",
    "model = model.to(device)\n",
    "\n",
    "\n",
    "total_acc = PrequentialMetrics()\n",
    "total_loss = PrequentialMetrics()\n",
    "\n",
    "for idx, batch in enumerate(dataloader):\n",
    "    texts = tokenizer(batch[\"post_message\"])\n",
    "    labels = batch[\"label\"]\n",
    "\n",
    "    max_lenght = 0\n",
    "    # append new tokens\n",
    "    for tokens in texts:\n",
    "        max_lenght = max(max_lenght, len(tokens))\n",
    "        for token in tokens:\n",
    "            try:\n",
    "                vc.append_token(token)\n",
    "            except Exception as e:\n",
    "                pass\n",
    "\n",
    "    # token -> index -> padding\n",
    "    text_transform = TextTransform(max_length=20)\n",
    "    texts = torch.stack([text_transform(vc.get_idxs(tokens)) for tokens in texts])\n",
    "    images = torch.stack([torch.rand(3, 256, 256) for tokens in texts])\n",
    "\n",
    "    # train\n",
    "    model.train()\n",
    "    optimizer.zero_grad()\n",
    "\n",
    "    texts = texts.to(device)\n",
    "    images = images.to(device)\n",
    "    labels = labels.to(device)\n",
    "\n",
    "    predictions = model(texts, images)\n",
    "\n",
    "    loss = criterion(predictions, labels)\n",
    "    acc = accuracy(predictions, labels)\n",
    "    loss.backward()\n",
    "    optimizer.step()\n",
    "\n",
    "    total_acc.update(acc)\n",
    "    total_loss.update(loss)\n",
    "    wandb.log({\"acc\": total_acc.values, \"loss\": total_loss.values})"
   ]
  }
 ],
 "metadata": {
  "kernelspec": {
   "display_name": "venv",
   "language": "python",
   "name": "python3"
  },
  "language_info": {
   "codemirror_mode": {
    "name": "ipython",
    "version": 3
   },
   "file_extension": ".py",
   "mimetype": "text/x-python",
   "name": "python",
   "nbconvert_exporter": "python",
   "pygments_lexer": "ipython3",
   "version": "3.10.11"
  },
  "orig_nbformat": 4
 },
 "nbformat": 4,
 "nbformat_minor": 2
}
